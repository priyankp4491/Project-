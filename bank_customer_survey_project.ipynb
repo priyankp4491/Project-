{
 "cells": [
  {
   "cell_type": "code",
   "execution_count": 1,
   "metadata": {},
   "outputs": [],
   "source": [
    "import numpy as np\n",
    "import pandas as pd\n",
    "import matplotlib.pyplot as plt\n",
    "import seaborn as sns\n",
    "import warnings\n",
    "warnings.filterwarnings('ignore')\n",
    "from time import time\n",
    "from IPython.display import display # Allows the use of display() for DataFrames\n",
    "%matplotlib inline"
   ]
  },
  {
   "cell_type": "code",
   "execution_count": 2,
   "metadata": {},
   "outputs": [
    {
     "name": "stdout",
     "output_type": "stream",
     "text": [
      "There are 1000 rows and 17 columns\n"
     ]
    }
   ],
   "source": [
    "nRowsRead = 1000 # specify 'None' if want to read whole file\n",
    "# bank_customer_survey.csv has 45211 rows in reality, but we are only loading/previewing the first 1000 rows\n",
    "df1 = pd.read_csv('bank_customer_survey.csv', delimiter=',', nrows = nRowsRead)\n",
    "df1.dataframeName = 'bank_customer_survey.csv'\n",
    "nRow, nCol = df1.shape\n",
    "print(f'There are {nRow} rows and {nCol} columns')"
   ]
  },
  {
   "cell_type": "code",
   "execution_count": 3,
   "metadata": {},
   "outputs": [
    {
     "data": {
      "text/html": [
       "<div>\n",
       "<style scoped>\n",
       "    .dataframe tbody tr th:only-of-type {\n",
       "        vertical-align: middle;\n",
       "    }\n",
       "\n",
       "    .dataframe tbody tr th {\n",
       "        vertical-align: top;\n",
       "    }\n",
       "\n",
       "    .dataframe thead th {\n",
       "        text-align: right;\n",
       "    }\n",
       "</style>\n",
       "<table border=\"1\" class=\"dataframe\">\n",
       "  <thead>\n",
       "    <tr style=\"text-align: right;\">\n",
       "      <th></th>\n",
       "      <th>age</th>\n",
       "      <th>job</th>\n",
       "      <th>marital</th>\n",
       "      <th>education</th>\n",
       "      <th>default</th>\n",
       "      <th>balance</th>\n",
       "      <th>housing</th>\n",
       "      <th>loan</th>\n",
       "      <th>contact</th>\n",
       "      <th>day</th>\n",
       "      <th>month</th>\n",
       "      <th>duration</th>\n",
       "      <th>campaign</th>\n",
       "      <th>pdays</th>\n",
       "      <th>previous</th>\n",
       "      <th>poutcome</th>\n",
       "      <th>y</th>\n",
       "    </tr>\n",
       "  </thead>\n",
       "  <tbody>\n",
       "    <tr>\n",
       "      <th>0</th>\n",
       "      <td>58</td>\n",
       "      <td>management</td>\n",
       "      <td>married</td>\n",
       "      <td>tertiary</td>\n",
       "      <td>no</td>\n",
       "      <td>2143</td>\n",
       "      <td>yes</td>\n",
       "      <td>no</td>\n",
       "      <td>unknown</td>\n",
       "      <td>5</td>\n",
       "      <td>may</td>\n",
       "      <td>261</td>\n",
       "      <td>1</td>\n",
       "      <td>-1</td>\n",
       "      <td>0</td>\n",
       "      <td>unknown</td>\n",
       "      <td>0</td>\n",
       "    </tr>\n",
       "    <tr>\n",
       "      <th>1</th>\n",
       "      <td>44</td>\n",
       "      <td>technician</td>\n",
       "      <td>single</td>\n",
       "      <td>secondary</td>\n",
       "      <td>no</td>\n",
       "      <td>29</td>\n",
       "      <td>yes</td>\n",
       "      <td>no</td>\n",
       "      <td>unknown</td>\n",
       "      <td>5</td>\n",
       "      <td>may</td>\n",
       "      <td>151</td>\n",
       "      <td>1</td>\n",
       "      <td>-1</td>\n",
       "      <td>0</td>\n",
       "      <td>unknown</td>\n",
       "      <td>0</td>\n",
       "    </tr>\n",
       "    <tr>\n",
       "      <th>2</th>\n",
       "      <td>33</td>\n",
       "      <td>entrepreneur</td>\n",
       "      <td>married</td>\n",
       "      <td>secondary</td>\n",
       "      <td>no</td>\n",
       "      <td>2</td>\n",
       "      <td>yes</td>\n",
       "      <td>yes</td>\n",
       "      <td>unknown</td>\n",
       "      <td>5</td>\n",
       "      <td>may</td>\n",
       "      <td>76</td>\n",
       "      <td>1</td>\n",
       "      <td>-1</td>\n",
       "      <td>0</td>\n",
       "      <td>unknown</td>\n",
       "      <td>0</td>\n",
       "    </tr>\n",
       "    <tr>\n",
       "      <th>3</th>\n",
       "      <td>47</td>\n",
       "      <td>blue</td>\n",
       "      <td>married</td>\n",
       "      <td>unknown</td>\n",
       "      <td>no</td>\n",
       "      <td>1506</td>\n",
       "      <td>yes</td>\n",
       "      <td>no</td>\n",
       "      <td>unknown</td>\n",
       "      <td>5</td>\n",
       "      <td>may</td>\n",
       "      <td>92</td>\n",
       "      <td>1</td>\n",
       "      <td>-1</td>\n",
       "      <td>0</td>\n",
       "      <td>unknown</td>\n",
       "      <td>0</td>\n",
       "    </tr>\n",
       "    <tr>\n",
       "      <th>4</th>\n",
       "      <td>33</td>\n",
       "      <td>unknown</td>\n",
       "      <td>single</td>\n",
       "      <td>unknown</td>\n",
       "      <td>no</td>\n",
       "      <td>1</td>\n",
       "      <td>no</td>\n",
       "      <td>no</td>\n",
       "      <td>unknown</td>\n",
       "      <td>5</td>\n",
       "      <td>may</td>\n",
       "      <td>198</td>\n",
       "      <td>1</td>\n",
       "      <td>-1</td>\n",
       "      <td>0</td>\n",
       "      <td>unknown</td>\n",
       "      <td>0</td>\n",
       "    </tr>\n",
       "  </tbody>\n",
       "</table>\n",
       "</div>"
      ],
      "text/plain": [
       "   age           job  marital  education default  balance housing loan  \\\n",
       "0   58    management  married   tertiary      no     2143     yes   no   \n",
       "1   44    technician   single  secondary      no       29     yes   no   \n",
       "2   33  entrepreneur  married  secondary      no        2     yes  yes   \n",
       "3   47          blue  married    unknown      no     1506     yes   no   \n",
       "4   33       unknown   single    unknown      no        1      no   no   \n",
       "\n",
       "   contact  day month  duration  campaign  pdays  previous poutcome  y  \n",
       "0  unknown    5   may       261         1     -1         0  unknown  0  \n",
       "1  unknown    5   may       151         1     -1         0  unknown  0  \n",
       "2  unknown    5   may        76         1     -1         0  unknown  0  \n",
       "3  unknown    5   may        92         1     -1         0  unknown  0  \n",
       "4  unknown    5   may       198         1     -1         0  unknown  0  "
      ]
     },
     "execution_count": 3,
     "metadata": {},
     "output_type": "execute_result"
    }
   ],
   "source": [
    "df=pd.read_csv(\"bank_customer_survey.csv\")\n",
    "df.head()"
   ]
  },
  {
   "cell_type": "code",
   "execution_count": 4,
   "metadata": {},
   "outputs": [
    {
     "data": {
      "text/html": [
       "<div>\n",
       "<style scoped>\n",
       "    .dataframe tbody tr th:only-of-type {\n",
       "        vertical-align: middle;\n",
       "    }\n",
       "\n",
       "    .dataframe tbody tr th {\n",
       "        vertical-align: top;\n",
       "    }\n",
       "\n",
       "    .dataframe thead th {\n",
       "        text-align: right;\n",
       "    }\n",
       "</style>\n",
       "<table border=\"1\" class=\"dataframe\">\n",
       "  <thead>\n",
       "    <tr style=\"text-align: right;\">\n",
       "      <th></th>\n",
       "      <th>age</th>\n",
       "      <th>job</th>\n",
       "      <th>marital</th>\n",
       "      <th>education</th>\n",
       "      <th>default</th>\n",
       "      <th>balance</th>\n",
       "      <th>housing</th>\n",
       "      <th>loan</th>\n",
       "      <th>contact</th>\n",
       "      <th>day</th>\n",
       "      <th>month</th>\n",
       "      <th>duration</th>\n",
       "      <th>campaign</th>\n",
       "      <th>pdays</th>\n",
       "      <th>previous</th>\n",
       "      <th>poutcome</th>\n",
       "      <th>y</th>\n",
       "    </tr>\n",
       "  </thead>\n",
       "  <tbody>\n",
       "    <tr>\n",
       "      <th>0</th>\n",
       "      <td>58</td>\n",
       "      <td>management</td>\n",
       "      <td>married</td>\n",
       "      <td>tertiary</td>\n",
       "      <td>no</td>\n",
       "      <td>2143</td>\n",
       "      <td>yes</td>\n",
       "      <td>no</td>\n",
       "      <td>unknown</td>\n",
       "      <td>5</td>\n",
       "      <td>may</td>\n",
       "      <td>261</td>\n",
       "      <td>1</td>\n",
       "      <td>-1</td>\n",
       "      <td>0</td>\n",
       "      <td>unknown</td>\n",
       "      <td>0</td>\n",
       "    </tr>\n",
       "    <tr>\n",
       "      <th>1</th>\n",
       "      <td>44</td>\n",
       "      <td>technician</td>\n",
       "      <td>single</td>\n",
       "      <td>secondary</td>\n",
       "      <td>no</td>\n",
       "      <td>29</td>\n",
       "      <td>yes</td>\n",
       "      <td>no</td>\n",
       "      <td>unknown</td>\n",
       "      <td>5</td>\n",
       "      <td>may</td>\n",
       "      <td>151</td>\n",
       "      <td>1</td>\n",
       "      <td>-1</td>\n",
       "      <td>0</td>\n",
       "      <td>unknown</td>\n",
       "      <td>0</td>\n",
       "    </tr>\n",
       "    <tr>\n",
       "      <th>2</th>\n",
       "      <td>33</td>\n",
       "      <td>entrepreneur</td>\n",
       "      <td>married</td>\n",
       "      <td>secondary</td>\n",
       "      <td>no</td>\n",
       "      <td>2</td>\n",
       "      <td>yes</td>\n",
       "      <td>yes</td>\n",
       "      <td>unknown</td>\n",
       "      <td>5</td>\n",
       "      <td>may</td>\n",
       "      <td>76</td>\n",
       "      <td>1</td>\n",
       "      <td>-1</td>\n",
       "      <td>0</td>\n",
       "      <td>unknown</td>\n",
       "      <td>0</td>\n",
       "    </tr>\n",
       "    <tr>\n",
       "      <th>3</th>\n",
       "      <td>47</td>\n",
       "      <td>blue</td>\n",
       "      <td>married</td>\n",
       "      <td>unknown</td>\n",
       "      <td>no</td>\n",
       "      <td>1506</td>\n",
       "      <td>yes</td>\n",
       "      <td>no</td>\n",
       "      <td>unknown</td>\n",
       "      <td>5</td>\n",
       "      <td>may</td>\n",
       "      <td>92</td>\n",
       "      <td>1</td>\n",
       "      <td>-1</td>\n",
       "      <td>0</td>\n",
       "      <td>unknown</td>\n",
       "      <td>0</td>\n",
       "    </tr>\n",
       "    <tr>\n",
       "      <th>4</th>\n",
       "      <td>33</td>\n",
       "      <td>unknown</td>\n",
       "      <td>single</td>\n",
       "      <td>unknown</td>\n",
       "      <td>no</td>\n",
       "      <td>1</td>\n",
       "      <td>no</td>\n",
       "      <td>no</td>\n",
       "      <td>unknown</td>\n",
       "      <td>5</td>\n",
       "      <td>may</td>\n",
       "      <td>198</td>\n",
       "      <td>1</td>\n",
       "      <td>-1</td>\n",
       "      <td>0</td>\n",
       "      <td>unknown</td>\n",
       "      <td>0</td>\n",
       "    </tr>\n",
       "  </tbody>\n",
       "</table>\n",
       "</div>"
      ],
      "text/plain": [
       "   age           job  marital  education default  balance housing loan  \\\n",
       "0   58    management  married   tertiary      no     2143     yes   no   \n",
       "1   44    technician   single  secondary      no       29     yes   no   \n",
       "2   33  entrepreneur  married  secondary      no        2     yes  yes   \n",
       "3   47          blue  married    unknown      no     1506     yes   no   \n",
       "4   33       unknown   single    unknown      no        1      no   no   \n",
       "\n",
       "   contact  day month  duration  campaign  pdays  previous poutcome  y  \n",
       "0  unknown    5   may       261         1     -1         0  unknown  0  \n",
       "1  unknown    5   may       151         1     -1         0  unknown  0  \n",
       "2  unknown    5   may        76         1     -1         0  unknown  0  \n",
       "3  unknown    5   may        92         1     -1         0  unknown  0  \n",
       "4  unknown    5   may       198         1     -1         0  unknown  0  "
      ]
     },
     "metadata": {},
     "output_type": "display_data"
    }
   ],
   "source": [
    "display(df.head())"
   ]
  },
  {
   "cell_type": "code",
   "execution_count": 5,
   "metadata": {},
   "outputs": [
    {
     "data": {
      "text/plain": [
       "(45211, 17)"
      ]
     },
     "execution_count": 5,
     "metadata": {},
     "output_type": "execute_result"
    }
   ],
   "source": [
    "df.shape"
   ]
  },
  {
   "cell_type": "code",
   "execution_count": 6,
   "metadata": {},
   "outputs": [
    {
     "name": "stdout",
     "output_type": "stream",
     "text": [
      "<class 'pandas.core.frame.DataFrame'>\n",
      "RangeIndex: 45211 entries, 0 to 45210\n",
      "Data columns (total 17 columns):\n",
      "age          45211 non-null int64\n",
      "job          45211 non-null object\n",
      "marital      45211 non-null object\n",
      "education    45211 non-null object\n",
      "default      45211 non-null object\n",
      "balance      45211 non-null int64\n",
      "housing      45211 non-null object\n",
      "loan         45211 non-null object\n",
      "contact      45211 non-null object\n",
      "day          45211 non-null int64\n",
      "month        45211 non-null object\n",
      "duration     45211 non-null int64\n",
      "campaign     45211 non-null int64\n",
      "pdays        45211 non-null int64\n",
      "previous     45211 non-null int64\n",
      "poutcome     45211 non-null object\n",
      "y            45211 non-null int64\n",
      "dtypes: int64(8), object(9)\n",
      "memory usage: 5.9+ MB\n"
     ]
    }
   ],
   "source": [
    "df.info()"
   ]
  },
  {
   "cell_type": "code",
   "execution_count": 7,
   "metadata": {},
   "outputs": [
    {
     "data": {
      "text/plain": [
       "age          0\n",
       "job          0\n",
       "marital      0\n",
       "education    0\n",
       "default      0\n",
       "balance      0\n",
       "housing      0\n",
       "loan         0\n",
       "contact      0\n",
       "day          0\n",
       "month        0\n",
       "duration     0\n",
       "campaign     0\n",
       "pdays        0\n",
       "previous     0\n",
       "poutcome     0\n",
       "y            0\n",
       "dtype: int64"
      ]
     },
     "execution_count": 7,
     "metadata": {},
     "output_type": "execute_result"
    }
   ],
   "source": [
    "df.isnull().sum()"
   ]
  },
  {
   "cell_type": "code",
   "execution_count": 8,
   "metadata": {},
   "outputs": [
    {
     "data": {
      "text/html": [
       "<div>\n",
       "<style scoped>\n",
       "    .dataframe tbody tr th:only-of-type {\n",
       "        vertical-align: middle;\n",
       "    }\n",
       "\n",
       "    .dataframe tbody tr th {\n",
       "        vertical-align: top;\n",
       "    }\n",
       "\n",
       "    .dataframe thead th {\n",
       "        text-align: right;\n",
       "    }\n",
       "</style>\n",
       "<table border=\"1\" class=\"dataframe\">\n",
       "  <thead>\n",
       "    <tr style=\"text-align: right;\">\n",
       "      <th></th>\n",
       "      <th>Total</th>\n",
       "      <th>Percent</th>\n",
       "    </tr>\n",
       "  </thead>\n",
       "  <tbody>\n",
       "    <tr>\n",
       "      <th>y</th>\n",
       "      <td>0</td>\n",
       "      <td>0.0</td>\n",
       "    </tr>\n",
       "    <tr>\n",
       "      <th>loan</th>\n",
       "      <td>0</td>\n",
       "      <td>0.0</td>\n",
       "    </tr>\n",
       "    <tr>\n",
       "      <th>job</th>\n",
       "      <td>0</td>\n",
       "      <td>0.0</td>\n",
       "    </tr>\n",
       "    <tr>\n",
       "      <th>marital</th>\n",
       "      <td>0</td>\n",
       "      <td>0.0</td>\n",
       "    </tr>\n",
       "    <tr>\n",
       "      <th>education</th>\n",
       "      <td>0</td>\n",
       "      <td>0.0</td>\n",
       "    </tr>\n",
       "    <tr>\n",
       "      <th>default</th>\n",
       "      <td>0</td>\n",
       "      <td>0.0</td>\n",
       "    </tr>\n",
       "    <tr>\n",
       "      <th>balance</th>\n",
       "      <td>0</td>\n",
       "      <td>0.0</td>\n",
       "    </tr>\n",
       "    <tr>\n",
       "      <th>housing</th>\n",
       "      <td>0</td>\n",
       "      <td>0.0</td>\n",
       "    </tr>\n",
       "    <tr>\n",
       "      <th>contact</th>\n",
       "      <td>0</td>\n",
       "      <td>0.0</td>\n",
       "    </tr>\n",
       "    <tr>\n",
       "      <th>poutcome</th>\n",
       "      <td>0</td>\n",
       "      <td>0.0</td>\n",
       "    </tr>\n",
       "    <tr>\n",
       "      <th>day</th>\n",
       "      <td>0</td>\n",
       "      <td>0.0</td>\n",
       "    </tr>\n",
       "    <tr>\n",
       "      <th>month</th>\n",
       "      <td>0</td>\n",
       "      <td>0.0</td>\n",
       "    </tr>\n",
       "    <tr>\n",
       "      <th>duration</th>\n",
       "      <td>0</td>\n",
       "      <td>0.0</td>\n",
       "    </tr>\n",
       "    <tr>\n",
       "      <th>campaign</th>\n",
       "      <td>0</td>\n",
       "      <td>0.0</td>\n",
       "    </tr>\n",
       "    <tr>\n",
       "      <th>pdays</th>\n",
       "      <td>0</td>\n",
       "      <td>0.0</td>\n",
       "    </tr>\n",
       "    <tr>\n",
       "      <th>previous</th>\n",
       "      <td>0</td>\n",
       "      <td>0.0</td>\n",
       "    </tr>\n",
       "    <tr>\n",
       "      <th>age</th>\n",
       "      <td>0</td>\n",
       "      <td>0.0</td>\n",
       "    </tr>\n",
       "  </tbody>\n",
       "</table>\n",
       "</div>"
      ],
      "text/plain": [
       "           Total  Percent\n",
       "y              0      0.0\n",
       "loan           0      0.0\n",
       "job            0      0.0\n",
       "marital        0      0.0\n",
       "education      0      0.0\n",
       "default        0      0.0\n",
       "balance        0      0.0\n",
       "housing        0      0.0\n",
       "contact        0      0.0\n",
       "poutcome       0      0.0\n",
       "day            0      0.0\n",
       "month          0      0.0\n",
       "duration       0      0.0\n",
       "campaign       0      0.0\n",
       "pdays          0      0.0\n",
       "previous       0      0.0\n",
       "age            0      0.0"
      ]
     },
     "execution_count": 8,
     "metadata": {},
     "output_type": "execute_result"
    }
   ],
   "source": [
    "def missing_check(df):\n",
    "    total = df.isnull().sum().sort_values(ascending=False)\n",
    "    percent = (df.isnull().sum()/df.isnull().count()).sort_values(ascending=False)\n",
    "    missing_data = pd.concat([total, percent], axis=1, keys=['Total', 'Percent']) \n",
    "    #print(\"Missing check:\",missing_data )\n",
    "    return missing_data\n",
    "missing_check(df)"
   ]
  },
  {
   "cell_type": "code",
   "execution_count": 9,
   "metadata": {},
   "outputs": [
    {
     "data": {
      "text/plain": [
       "Index(['age', 'job', 'marital', 'education', 'default', 'balance', 'housing',\n",
       "       'loan', 'contact', 'day', 'month', 'duration', 'campaign', 'pdays',\n",
       "       'previous', 'poutcome', 'y'],\n",
       "      dtype='object')"
      ]
     },
     "execution_count": 9,
     "metadata": {},
     "output_type": "execute_result"
    }
   ],
   "source": [
    "df.columns"
   ]
  },
  {
   "cell_type": "code",
   "execution_count": 10,
   "metadata": {},
   "outputs": [
    {
     "data": {
      "text/plain": [
       "blue            9732\n",
       "management      9458\n",
       "technician      7597\n",
       "admin           5171\n",
       "services        4154\n",
       "retired         2264\n",
       "self            1579\n",
       "entrepreneur    1487\n",
       "unemployed      1303\n",
       "housemaid       1240\n",
       "student          938\n",
       "unknown          288\n",
       "Name: job, dtype: int64"
      ]
     },
     "execution_count": 10,
     "metadata": {},
     "output_type": "execute_result"
    }
   ],
   "source": [
    "df['job'].value_counts()"
   ]
  },
  {
   "cell_type": "code",
   "execution_count": 11,
   "metadata": {},
   "outputs": [
    {
     "data": {
      "text/plain": [
       "<matplotlib.axes._subplots.AxesSubplot at 0x1fb47086550>"
      ]
     },
     "execution_count": 11,
     "metadata": {},
     "output_type": "execute_result"
    },
    {
     "data": {
      "image/png": "[encoded data removed]",
      "text/plain": [
       "<Figure size 432x288 with 1 Axes>"
      ]
     },
     "metadata": {
      "needs_background": "light"
     },
     "output_type": "display_data"
    }
   ],
   "source": [
    "df['job'].value_counts().plot.bar()"
   ]
  },
  {
   "cell_type": "code",
   "execution_count": 12,
   "metadata": {},
   "outputs": [
    {
     "data": {
      "text/plain": [
       "married     27214\n",
       "single      12790\n",
       "divorced     5207\n",
       "Name: marital, dtype: int64"
      ]
     },
     "execution_count": 12,
     "metadata": {},
     "output_type": "execute_result"
    }
   ],
   "source": [
    "df['marital'].value_counts()"
   ]
  },
  {
   "cell_type": "code",
   "execution_count": 13,
   "metadata": {},
   "outputs": [
    {
     "data": {
      "text/plain": [
       "secondary    23202\n",
       "tertiary     13301\n",
       "primary       6851\n",
       "unknown       1857\n",
       "Name: education, dtype: int64"
      ]
     },
     "execution_count": 13,
     "metadata": {},
     "output_type": "execute_result"
    }
   ],
   "source": [
    "df['education'].value_counts()"
   ]
  },
  {
   "cell_type": "code",
   "execution_count": 14,
   "metadata": {},
   "outputs": [
    {
     "data": {
      "text/plain": [
       "no     44396\n",
       "yes      815\n",
       "Name: default, dtype: int64"
      ]
     },
     "execution_count": 14,
     "metadata": {},
     "output_type": "execute_result"
    }
   ],
   "source": [
    "df['default'].value_counts()"
   ]
  },
  {
   "cell_type": "code",
   "execution_count": 15,
   "metadata": {},
   "outputs": [
    {
     "data": {
      "text/plain": [
       "yes    25130\n",
       "no     20081\n",
       "Name: housing, dtype: int64"
      ]
     },
     "execution_count": 15,
     "metadata": {},
     "output_type": "execute_result"
    }
   ],
   "source": [
    "df['housing'].value_counts()"
   ]
  },
  {
   "cell_type": "code",
   "execution_count": 16,
   "metadata": {},
   "outputs": [
    {
     "data": {
      "text/plain": [
       "no     37967\n",
       "yes     7244\n",
       "Name: loan, dtype: int64"
      ]
     },
     "execution_count": 16,
     "metadata": {},
     "output_type": "execute_result"
    }
   ],
   "source": [
    "df['loan'].value_counts()"
   ]
  },
  {
   "cell_type": "code",
   "execution_count": 17,
   "metadata": {},
   "outputs": [
    {
     "data": {
      "text/plain": [
       "cellular     29285\n",
       "unknown      13020\n",
       "telephone     2906\n",
       "Name: contact, dtype: int64"
      ]
     },
     "execution_count": 17,
     "metadata": {},
     "output_type": "execute_result"
    }
   ],
   "source": [
    "df['contact'].value_counts()"
   ]
  },
  {
   "cell_type": "code",
   "execution_count": 18,
   "metadata": {},
   "outputs": [
    {
     "data": {
      "text/plain": [
       "20    2752\n",
       "18    2308\n",
       "21    2026\n",
       "17    1939\n",
       "6     1932\n",
       "5     1910\n",
       "14    1848\n",
       "8     1842\n",
       "28    1830\n",
       "7     1817\n",
       "19    1757\n",
       "29    1745\n",
       "15    1703\n",
       "12    1603\n",
       "13    1585\n",
       "30    1566\n",
       "9     1561\n",
       "11    1479\n",
       "4     1445\n",
       "16    1415\n",
       "2     1293\n",
       "27    1121\n",
       "3     1079\n",
       "26    1035\n",
       "23     939\n",
       "22     905\n",
       "25     840\n",
       "31     643\n",
       "10     524\n",
       "24     447\n",
       "1      322\n",
       "Name: day, dtype: int64"
      ]
     },
     "execution_count": 18,
     "metadata": {},
     "output_type": "execute_result"
    }
   ],
   "source": [
    "df['day'].value_counts()"
   ]
  },
  {
   "cell_type": "code",
   "execution_count": 19,
   "metadata": {},
   "outputs": [
    {
     "data": {
      "text/plain": [
       "may    13766\n",
       "jul     6895\n",
       "aug     6247\n",
       "jun     5341\n",
       "nov     3970\n",
       "apr     2932\n",
       "feb     2649\n",
       "jan     1403\n",
       "oct      738\n",
       "sep      579\n",
       "mar      477\n",
       "dec      214\n",
       "Name: month, dtype: int64"
      ]
     },
     "execution_count": 19,
     "metadata": {},
     "output_type": "execute_result"
    }
   ],
   "source": [
    "df['month'].value_counts()"
   ]
  },
  {
   "cell_type": "code",
   "execution_count": 20,
   "metadata": {},
   "outputs": [
    {
     "data": {
      "text/plain": [
       "unknown    36959\n",
       "failure     4901\n",
       "other       1840\n",
       "success     1511\n",
       "Name: poutcome, dtype: int64"
      ]
     },
     "execution_count": 20,
     "metadata": {},
     "output_type": "execute_result"
    }
   ],
   "source": [
    "df['poutcome'].value_counts()"
   ]
  },
  {
   "cell_type": "code",
   "execution_count": 21,
   "metadata": {},
   "outputs": [
    {
     "data": {
      "text/plain": [
       "0    39922\n",
       "1     5289\n",
       "Name: y, dtype: int64"
      ]
     },
     "execution_count": 21,
     "metadata": {},
     "output_type": "execute_result"
    }
   ],
   "source": [
    "df['y'].value_counts()"
   ]
  },
  {
   "cell_type": "code",
   "execution_count": 22,
   "metadata": {},
   "outputs": [
    {
     "data": {
      "text/plain": [
       "0      36954\n",
       "1       2772\n",
       "2       2106\n",
       "3       1142\n",
       "4        714\n",
       "5        459\n",
       "6        277\n",
       "7        205\n",
       "8        129\n",
       "9         92\n",
       "10        67\n",
       "11        65\n",
       "12        44\n",
       "13        38\n",
       "15        20\n",
       "14        19\n",
       "17        15\n",
       "16        13\n",
       "19        11\n",
       "23         8\n",
       "20         8\n",
       "22         6\n",
       "18         6\n",
       "24         5\n",
       "27         5\n",
       "29         4\n",
       "25         4\n",
       "21         4\n",
       "30         3\n",
       "28         2\n",
       "26         2\n",
       "37         2\n",
       "38         2\n",
       "55         1\n",
       "40         1\n",
       "35         1\n",
       "58         1\n",
       "51         1\n",
       "41         1\n",
       "32         1\n",
       "275        1\n",
       "Name: previous, dtype: int64"
      ]
     },
     "execution_count": 22,
     "metadata": {},
     "output_type": "execute_result"
    }
   ],
   "source": [
    "df['previous'].value_counts()"
   ]
  },
  {
   "cell_type": "code",
   "execution_count": 23,
   "metadata": {},
   "outputs": [
    {
     "data": {
      "text/plain": [
       "20    2752\n",
       "18    2308\n",
       "21    2026\n",
       "17    1939\n",
       "6     1932\n",
       "5     1910\n",
       "14    1848\n",
       "8     1842\n",
       "28    1830\n",
       "7     1817\n",
       "19    1757\n",
       "29    1745\n",
       "15    1703\n",
       "12    1603\n",
       "13    1585\n",
       "30    1566\n",
       "9     1561\n",
       "11    1479\n",
       "4     1445\n",
       "16    1415\n",
       "2     1293\n",
       "27    1121\n",
       "3     1079\n",
       "26    1035\n",
       "23     939\n",
       "22     905\n",
       "25     840\n",
       "31     643\n",
       "10     524\n",
       "24     447\n",
       "1      322\n",
       "Name: day, dtype: int64"
      ]
     },
     "execution_count": 23,
     "metadata": {},
     "output_type": "execute_result"
    }
   ],
   "source": [
    "df['day'].value_counts()"
   ]
  },
  {
   "cell_type": "code",
   "execution_count": 24,
   "metadata": {},
   "outputs": [
    {
     "data": {
      "text/html": [
       "<div>\n",
       "<style scoped>\n",
       "    .dataframe tbody tr th:only-of-type {\n",
       "        vertical-align: middle;\n",
       "    }\n",
       "\n",
       "    .dataframe tbody tr th {\n",
       "        vertical-align: top;\n",
       "    }\n",
       "\n",
       "    .dataframe thead th {\n",
       "        text-align: right;\n",
       "    }\n",
       "</style>\n",
       "<table border=\"1\" class=\"dataframe\">\n",
       "  <thead>\n",
       "    <tr style=\"text-align: right;\">\n",
       "      <th></th>\n",
       "      <th>age</th>\n",
       "      <th>job</th>\n",
       "      <th>marital</th>\n",
       "      <th>education</th>\n",
       "      <th>default</th>\n",
       "      <th>balance</th>\n",
       "      <th>housing</th>\n",
       "      <th>loan</th>\n",
       "      <th>contact</th>\n",
       "      <th>day</th>\n",
       "      <th>month</th>\n",
       "      <th>duration</th>\n",
       "      <th>campaign</th>\n",
       "      <th>pdays</th>\n",
       "      <th>previous</th>\n",
       "      <th>poutcome</th>\n",
       "      <th>y</th>\n",
       "    </tr>\n",
       "  </thead>\n",
       "  <tbody>\n",
       "    <tr>\n",
       "      <th>0</th>\n",
       "      <td>58</td>\n",
       "      <td>management</td>\n",
       "      <td>married</td>\n",
       "      <td>tertiary</td>\n",
       "      <td>no</td>\n",
       "      <td>2143</td>\n",
       "      <td>yes</td>\n",
       "      <td>no</td>\n",
       "      <td>unknown</td>\n",
       "      <td>5</td>\n",
       "      <td>may</td>\n",
       "      <td>261</td>\n",
       "      <td>1</td>\n",
       "      <td>-1</td>\n",
       "      <td>0</td>\n",
       "      <td>unknown</td>\n",
       "      <td>0</td>\n",
       "    </tr>\n",
       "    <tr>\n",
       "      <th>1</th>\n",
       "      <td>44</td>\n",
       "      <td>technician</td>\n",
       "      <td>single</td>\n",
       "      <td>secondary</td>\n",
       "      <td>no</td>\n",
       "      <td>29</td>\n",
       "      <td>yes</td>\n",
       "      <td>no</td>\n",
       "      <td>unknown</td>\n",
       "      <td>5</td>\n",
       "      <td>may</td>\n",
       "      <td>151</td>\n",
       "      <td>1</td>\n",
       "      <td>-1</td>\n",
       "      <td>0</td>\n",
       "      <td>unknown</td>\n",
       "      <td>0</td>\n",
       "    </tr>\n",
       "    <tr>\n",
       "      <th>2</th>\n",
       "      <td>33</td>\n",
       "      <td>entrepreneur</td>\n",
       "      <td>married</td>\n",
       "      <td>secondary</td>\n",
       "      <td>no</td>\n",
       "      <td>2</td>\n",
       "      <td>yes</td>\n",
       "      <td>yes</td>\n",
       "      <td>unknown</td>\n",
       "      <td>5</td>\n",
       "      <td>may</td>\n",
       "      <td>76</td>\n",
       "      <td>1</td>\n",
       "      <td>-1</td>\n",
       "      <td>0</td>\n",
       "      <td>unknown</td>\n",
       "      <td>0</td>\n",
       "    </tr>\n",
       "    <tr>\n",
       "      <th>3</th>\n",
       "      <td>47</td>\n",
       "      <td>blue</td>\n",
       "      <td>married</td>\n",
       "      <td>unknown</td>\n",
       "      <td>no</td>\n",
       "      <td>1506</td>\n",
       "      <td>yes</td>\n",
       "      <td>no</td>\n",
       "      <td>unknown</td>\n",
       "      <td>5</td>\n",
       "      <td>may</td>\n",
       "      <td>92</td>\n",
       "      <td>1</td>\n",
       "      <td>-1</td>\n",
       "      <td>0</td>\n",
       "      <td>unknown</td>\n",
       "      <td>0</td>\n",
       "    </tr>\n",
       "    <tr>\n",
       "      <th>4</th>\n",
       "      <td>33</td>\n",
       "      <td>unknown</td>\n",
       "      <td>single</td>\n",
       "      <td>unknown</td>\n",
       "      <td>no</td>\n",
       "      <td>1</td>\n",
       "      <td>no</td>\n",
       "      <td>no</td>\n",
       "      <td>unknown</td>\n",
       "      <td>5</td>\n",
       "      <td>may</td>\n",
       "      <td>198</td>\n",
       "      <td>1</td>\n",
       "      <td>-1</td>\n",
       "      <td>0</td>\n",
       "      <td>unknown</td>\n",
       "      <td>0</td>\n",
       "    </tr>\n",
       "  </tbody>\n",
       "</table>\n",
       "</div>"
      ],
      "text/plain": [
       "   age           job  marital  education default  balance housing loan  \\\n",
       "0   58    management  married   tertiary      no     2143     yes   no   \n",
       "1   44    technician   single  secondary      no       29     yes   no   \n",
       "2   33  entrepreneur  married  secondary      no        2     yes  yes   \n",
       "3   47          blue  married    unknown      no     1506     yes   no   \n",
       "4   33       unknown   single    unknown      no        1      no   no   \n",
       "\n",
       "   contact  day month  duration  campaign  pdays  previous poutcome  y  \n",
       "0  unknown    5   may       261         1     -1         0  unknown  0  \n",
       "1  unknown    5   may       151         1     -1         0  unknown  0  \n",
       "2  unknown    5   may        76         1     -1         0  unknown  0  \n",
       "3  unknown    5   may        92         1     -1         0  unknown  0  \n",
       "4  unknown    5   may       198         1     -1         0  unknown  0  "
      ]
     },
     "execution_count": 24,
     "metadata": {},
     "output_type": "execute_result"
    }
   ],
   "source": [
    "df.head()"
   ]
  },
  {
   "cell_type": "code",
   "execution_count": 25,
   "metadata": {},
   "outputs": [
    {
     "data": {
      "text/plain": [
       "Index(['age', 'balance', 'day', 'duration', 'campaign', 'pdays', 'previous',\n",
       "       'y'],\n",
       "      dtype='object')"
      ]
     },
     "execution_count": 25,
     "metadata": {},
     "output_type": "execute_result"
    }
   ],
   "source": [
    "num_cols=df.select_dtypes(['int64']).columns\n",
    "num_cols"
   ]
  },
  {
   "cell_type": "code",
   "execution_count": 26,
   "metadata": {},
   "outputs": [
    {
     "data": {
      "text/plain": [
       "Index(['job', 'marital', 'education', 'default', 'housing', 'loan', 'contact',\n",
       "       'month', 'poutcome'],\n",
       "      dtype='object')"
      ]
     },
     "execution_count": 26,
     "metadata": {},
     "output_type": "execute_result"
    }
   ],
   "source": [
    "cat_cols=df.select_dtypes(['object']).columns\n",
    "cat_cols"
   ]
  },
  {
   "cell_type": "code",
   "execution_count": 27,
   "metadata": {},
   "outputs": [
    {
     "data": {
      "image/png": "[encoded data removed]",
      "text/plain": [
       "<Figure size 1440x1440 with 8 Axes>"
      ]
     },
     "metadata": {
      "needs_background": "light"
     },
     "output_type": "display_data"
    }
   ],
   "source": [
    "def draw_boxplots(dataframe, features, rows, cols):\n",
    "    fig=plt.figure(figsize=(20,20))\n",
    "    for i, feature in enumerate(features):\n",
    "        ax=fig.add_subplot(rows,cols,i+1)\n",
    "        sns.boxplot(dataframe[feature],ax=ax)\n",
    "        \n",
    "    fig.tight_layout()  \n",
    "    plt.show()\n",
    "    \n",
    "draw_boxplots(df,num_cols,10,6)"
   ]
  },
  {
   "cell_type": "code",
   "execution_count": 28,
   "metadata": {},
   "outputs": [
    {
     "data": {
      "image/png": "[encoded data removed]",
      "text/plain": [
       "<Figure size 1440x1440 with 8 Axes>"
      ]
     },
     "metadata": {
      "needs_background": "light"
     },
     "output_type": "display_data"
    }
   ],
   "source": [
    "def draw_distplots(dataframe, features, rows, cols):\n",
    "    fig=plt.figure(figsize=(20,20))\n",
    "    for i, feature in enumerate(features):\n",
    "        ax=fig.add_subplot(rows,cols,i+1)\n",
    "        sns.distplot(dataframe[feature],ax=ax)\n",
    "        \n",
    "    fig.tight_layout()  \n",
    "    plt.show()\n",
    "    \n",
    "draw_distplots(df,num_cols,10,6)"
   ]
  },
  {
   "cell_type": "code",
   "execution_count": 29,
   "metadata": {},
   "outputs": [
    {
     "data": {
      "image/png": "[encoded data removed]",
      "text/plain": [
       "<Figure size 1440x1440 with 8 Axes>"
      ]
     },
     "metadata": {
      "needs_background": "light"
     },
     "output_type": "display_data"
    }
   ],
   "source": [
    "def draw_scatterplots(dataframe, features, rows, cols):\n",
    "    fig=plt.figure(figsize=(20,20))\n",
    "    for i, feature in enumerate(features):\n",
    "        ax=fig.add_subplot(rows,cols,i+1)\n",
    "        sns.scatterplot(dataframe[feature],dataframe['y'],ax=ax)\n",
    "        \n",
    "    fig.tight_layout()  \n",
    "    plt.show()\n",
    "    \n",
    "draw_scatterplots(df,num_cols,10,6)"
   ]
  },
  {
   "cell_type": "code",
   "execution_count": 30,
   "metadata": {},
   "outputs": [
    {
     "data": {
      "image/png": "[encoded data removed]",
      "text/plain": [
       "<Figure size 1152x576 with 1 Axes>"
      ]
     },
     "metadata": {
      "needs_background": "light"
     },
     "output_type": "display_data"
    }
   ],
   "source": [
    "fig, ax = plt.subplots(figsize=(16,8))\n",
    "ax.scatter(df['duration'],df['balance'])\n",
    "plt.show()"
   ]
  },
  {
   "cell_type": "code",
   "execution_count": 31,
   "metadata": {},
   "outputs": [
    {
     "data": {
      "image/png": "[encoded data removed]",
      "text/plain": [
       "<Figure size 1440x1440 with 9 Axes>"
      ]
     },
     "metadata": {
      "needs_background": "light"
     },
     "output_type": "display_data"
    }
   ],
   "source": [
    "def draw_barplots(dataframe, features, rows, cols):\n",
    "    fig=plt.figure(figsize=(20,20))\n",
    "    for i, feature in enumerate(features):\n",
    "        ax=fig.add_subplot(rows,cols,i+1)\n",
    "        sns.barplot(dataframe[feature],dataframe['y'],ax=ax)\n",
    "        \n",
    "    fig.tight_layout()  \n",
    "    plt.show()\n",
    "    \n",
    "draw_barplots(df,cat_cols,5,2)"
   ]
  },
  {
   "cell_type": "code",
   "execution_count": 32,
   "metadata": {},
   "outputs": [
    {
     "name": "stdout",
     "output_type": "stream",
     "text": [
      "Number of outliers in \"age\" : 487\n",
      "Number of outliers in \"balance\" : 4729\n",
      "Number of outliers in \"day\" : 0\n",
      "Number of outliers in \"duration\" : 3235\n",
      "Number of outliers in \"campaign\" : 3064\n",
      "Number of outliers in \"pdays\" : 8257\n",
      "Number of outliers in \"previous\" : 8257\n",
      "Number of outliers in \"y\" : 5289\n"
     ]
    }
   ],
   "source": [
    "for column in num_cols:    \n",
    "    q1 = df[column].quantile(0.25)    # First Quartile\n",
    "    q3 = df[column].quantile(0.75)    # Third Quartile\n",
    "    IQR = q3 - q1                            # Inter Quartile Range\n",
    "\n",
    "    llimit = q1 - 1.5*IQR                       # Lower Limit\n",
    "    ulimit = q3 + 1.5*IQR                        # Upper Limit\n",
    "\n",
    "    outliers = df[(df[column] < llimit) | (df[column] > ulimit)]\n",
    "    print('Number of outliers in \"' + column + '\" : ' + str(len(outliers)))"
   ]
  },
  {
   "cell_type": "code",
   "execution_count": 33,
   "metadata": {},
   "outputs": [
    {
     "data": {
      "text/plain": [
       "0    39922\n",
       "1     5289\n",
       "Name: y, dtype: int64"
      ]
     },
     "execution_count": 33,
     "metadata": {},
     "output_type": "execute_result"
    }
   ],
   "source": [
    "df['y'].value_counts()"
   ]
  },
  {
   "cell_type": "code",
   "execution_count": 34,
   "metadata": {},
   "outputs": [
    {
     "data": {
      "text/html": [
       "<div>\n",
       "<style scoped>\n",
       "    .dataframe tbody tr th:only-of-type {\n",
       "        vertical-align: middle;\n",
       "    }\n",
       "\n",
       "    .dataframe tbody tr th {\n",
       "        vertical-align: top;\n",
       "    }\n",
       "\n",
       "    .dataframe thead th {\n",
       "        text-align: right;\n",
       "    }\n",
       "</style>\n",
       "<table border=\"1\" class=\"dataframe\">\n",
       "  <thead>\n",
       "    <tr style=\"text-align: right;\">\n",
       "      <th></th>\n",
       "      <th>age</th>\n",
       "      <th>balance</th>\n",
       "      <th>day</th>\n",
       "      <th>duration</th>\n",
       "      <th>campaign</th>\n",
       "      <th>pdays</th>\n",
       "      <th>previous</th>\n",
       "      <th>y</th>\n",
       "    </tr>\n",
       "  </thead>\n",
       "  <tbody>\n",
       "    <tr>\n",
       "      <th>age</th>\n",
       "      <td>1.000000</td>\n",
       "      <td>0.097783</td>\n",
       "      <td>-0.009120</td>\n",
       "      <td>-0.004648</td>\n",
       "      <td>0.004760</td>\n",
       "      <td>-0.023758</td>\n",
       "      <td>0.001288</td>\n",
       "      <td>0.025155</td>\n",
       "    </tr>\n",
       "    <tr>\n",
       "      <th>balance</th>\n",
       "      <td>0.097783</td>\n",
       "      <td>1.000000</td>\n",
       "      <td>0.004503</td>\n",
       "      <td>0.021560</td>\n",
       "      <td>-0.014578</td>\n",
       "      <td>0.003435</td>\n",
       "      <td>0.016674</td>\n",
       "      <td>0.052838</td>\n",
       "    </tr>\n",
       "    <tr>\n",
       "      <th>day</th>\n",
       "      <td>-0.009120</td>\n",
       "      <td>0.004503</td>\n",
       "      <td>1.000000</td>\n",
       "      <td>-0.030206</td>\n",
       "      <td>0.162490</td>\n",
       "      <td>-0.093044</td>\n",
       "      <td>-0.051710</td>\n",
       "      <td>-0.028348</td>\n",
       "    </tr>\n",
       "    <tr>\n",
       "      <th>duration</th>\n",
       "      <td>-0.004648</td>\n",
       "      <td>0.021560</td>\n",
       "      <td>-0.030206</td>\n",
       "      <td>1.000000</td>\n",
       "      <td>-0.084570</td>\n",
       "      <td>-0.001565</td>\n",
       "      <td>0.001203</td>\n",
       "      <td>0.394521</td>\n",
       "    </tr>\n",
       "    <tr>\n",
       "      <th>campaign</th>\n",
       "      <td>0.004760</td>\n",
       "      <td>-0.014578</td>\n",
       "      <td>0.162490</td>\n",
       "      <td>-0.084570</td>\n",
       "      <td>1.000000</td>\n",
       "      <td>-0.088628</td>\n",
       "      <td>-0.032855</td>\n",
       "      <td>-0.073172</td>\n",
       "    </tr>\n",
       "    <tr>\n",
       "      <th>pdays</th>\n",
       "      <td>-0.023758</td>\n",
       "      <td>0.003435</td>\n",
       "      <td>-0.093044</td>\n",
       "      <td>-0.001565</td>\n",
       "      <td>-0.088628</td>\n",
       "      <td>1.000000</td>\n",
       "      <td>0.454820</td>\n",
       "      <td>0.103621</td>\n",
       "    </tr>\n",
       "    <tr>\n",
       "      <th>previous</th>\n",
       "      <td>0.001288</td>\n",
       "      <td>0.016674</td>\n",
       "      <td>-0.051710</td>\n",
       "      <td>0.001203</td>\n",
       "      <td>-0.032855</td>\n",
       "      <td>0.454820</td>\n",
       "      <td>1.000000</td>\n",
       "      <td>0.093236</td>\n",
       "    </tr>\n",
       "    <tr>\n",
       "      <th>y</th>\n",
       "      <td>0.025155</td>\n",
       "      <td>0.052838</td>\n",
       "      <td>-0.028348</td>\n",
       "      <td>0.394521</td>\n",
       "      <td>-0.073172</td>\n",
       "      <td>0.103621</td>\n",
       "      <td>0.093236</td>\n",
       "      <td>1.000000</td>\n",
       "    </tr>\n",
       "  </tbody>\n",
       "</table>\n",
       "</div>"
      ],
      "text/plain": [
       "               age   balance       day  duration  campaign     pdays  \\\n",
       "age       1.000000  0.097783 -0.009120 -0.004648  0.004760 -0.023758   \n",
       "balance   0.097783  1.000000  0.004503  0.021560 -0.014578  0.003435   \n",
       "day      -0.009120  0.004503  1.000000 -0.030206  0.162490 -0.093044   \n",
       "duration -0.004648  0.021560 -0.030206  1.000000 -0.084570 -0.001565   \n",
       "campaign  0.004760 -0.014578  0.162490 -0.084570  1.000000 -0.088628   \n",
       "pdays    -0.023758  0.003435 -0.093044 -0.001565 -0.088628  1.000000   \n",
       "previous  0.001288  0.016674 -0.051710  0.001203 -0.032855  0.454820   \n",
       "y         0.025155  0.052838 -0.028348  0.394521 -0.073172  0.103621   \n",
       "\n",
       "          previous         y  \n",
       "age       0.001288  0.025155  \n",
       "balance   0.016674  0.052838  \n",
       "day      -0.051710 -0.028348  \n",
       "duration  0.001203  0.394521  \n",
       "campaign -0.032855 -0.073172  \n",
       "pdays     0.454820  0.103621  \n",
       "previous  1.000000  0.093236  \n",
       "y         0.093236  1.000000  "
      ]
     },
     "execution_count": 34,
     "metadata": {},
     "output_type": "execute_result"
    }
   ],
   "source": [
    "df.corr()"
   ]
  },
  {
   "cell_type": "code",
   "execution_count": 35,
   "metadata": {},
   "outputs": [
    {
     "data": {
      "image/png": "[encoded data removed]",
      "text/plain": [
       "<Figure size 1440x720 with 2 Axes>"
      ]
     },
     "metadata": {
      "needs_background": "light"
     },
     "output_type": "display_data"
    }
   ],
   "source": [
    "plt.figure(figsize=(20,10))\n",
    "sns.heatmap(df.corr(), annot=True)\n",
    "plt.show()"
   ]
  },
  {
   "cell_type": "code",
   "execution_count": 36,
   "metadata": {},
   "outputs": [],
   "source": [
    "corr=df.corr()"
   ]
  },
  {
   "cell_type": "code",
   "execution_count": 37,
   "metadata": {},
   "outputs": [
    {
     "data": {
      "text/plain": [
       "age         0.025155\n",
       "balance     0.052838\n",
       "day        -0.028348\n",
       "duration    0.394521\n",
       "campaign   -0.073172\n",
       "pdays       0.103621\n",
       "previous    0.093236\n",
       "y           1.000000\n",
       "Name: y, dtype: float64"
      ]
     },
     "execution_count": 37,
     "metadata": {},
     "output_type": "execute_result"
    }
   ],
   "source": [
    "corr['y']"
   ]
  },
  {
   "cell_type": "code",
   "execution_count": 38,
   "metadata": {},
   "outputs": [
    {
     "data": {
      "text/html": [
       "<div>\n",
       "<style scoped>\n",
       "    .dataframe tbody tr th:only-of-type {\n",
       "        vertical-align: middle;\n",
       "    }\n",
       "\n",
       "    .dataframe tbody tr th {\n",
       "        vertical-align: top;\n",
       "    }\n",
       "\n",
       "    .dataframe thead th {\n",
       "        text-align: right;\n",
       "    }\n",
       "</style>\n",
       "<table border=\"1\" class=\"dataframe\">\n",
       "  <thead>\n",
       "    <tr style=\"text-align: right;\">\n",
       "      <th></th>\n",
       "      <th>age</th>\n",
       "      <th>balance</th>\n",
       "      <th>day</th>\n",
       "      <th>duration</th>\n",
       "      <th>campaign</th>\n",
       "      <th>pdays</th>\n",
       "      <th>previous</th>\n",
       "      <th>y</th>\n",
       "    </tr>\n",
       "  </thead>\n",
       "  <tbody>\n",
       "    <tr>\n",
       "      <th>count</th>\n",
       "      <td>45211.000000</td>\n",
       "      <td>45211.000000</td>\n",
       "      <td>45211.000000</td>\n",
       "      <td>45211.000000</td>\n",
       "      <td>45211.000000</td>\n",
       "      <td>45211.000000</td>\n",
       "      <td>45211.000000</td>\n",
       "      <td>45211.000000</td>\n",
       "    </tr>\n",
       "    <tr>\n",
       "      <th>mean</th>\n",
       "      <td>40.936210</td>\n",
       "      <td>1362.272058</td>\n",
       "      <td>15.806419</td>\n",
       "      <td>258.163080</td>\n",
       "      <td>2.763841</td>\n",
       "      <td>40.197828</td>\n",
       "      <td>0.580323</td>\n",
       "      <td>0.116985</td>\n",
       "    </tr>\n",
       "    <tr>\n",
       "      <th>std</th>\n",
       "      <td>10.618762</td>\n",
       "      <td>3044.765829</td>\n",
       "      <td>8.322476</td>\n",
       "      <td>257.527812</td>\n",
       "      <td>3.098021</td>\n",
       "      <td>100.128746</td>\n",
       "      <td>2.303441</td>\n",
       "      <td>0.321406</td>\n",
       "    </tr>\n",
       "    <tr>\n",
       "      <th>min</th>\n",
       "      <td>18.000000</td>\n",
       "      <td>-8019.000000</td>\n",
       "      <td>1.000000</td>\n",
       "      <td>0.000000</td>\n",
       "      <td>1.000000</td>\n",
       "      <td>-1.000000</td>\n",
       "      <td>0.000000</td>\n",
       "      <td>0.000000</td>\n",
       "    </tr>\n",
       "    <tr>\n",
       "      <th>25%</th>\n",
       "      <td>33.000000</td>\n",
       "      <td>72.000000</td>\n",
       "      <td>8.000000</td>\n",
       "      <td>103.000000</td>\n",
       "      <td>1.000000</td>\n",
       "      <td>-1.000000</td>\n",
       "      <td>0.000000</td>\n",
       "      <td>0.000000</td>\n",
       "    </tr>\n",
       "    <tr>\n",
       "      <th>50%</th>\n",
       "      <td>39.000000</td>\n",
       "      <td>448.000000</td>\n",
       "      <td>16.000000</td>\n",
       "      <td>180.000000</td>\n",
       "      <td>2.000000</td>\n",
       "      <td>-1.000000</td>\n",
       "      <td>0.000000</td>\n",
       "      <td>0.000000</td>\n",
       "    </tr>\n",
       "    <tr>\n",
       "      <th>75%</th>\n",
       "      <td>48.000000</td>\n",
       "      <td>1428.000000</td>\n",
       "      <td>21.000000</td>\n",
       "      <td>319.000000</td>\n",
       "      <td>3.000000</td>\n",
       "      <td>-1.000000</td>\n",
       "      <td>0.000000</td>\n",
       "      <td>0.000000</td>\n",
       "    </tr>\n",
       "    <tr>\n",
       "      <th>max</th>\n",
       "      <td>95.000000</td>\n",
       "      <td>102127.000000</td>\n",
       "      <td>31.000000</td>\n",
       "      <td>4918.000000</td>\n",
       "      <td>63.000000</td>\n",
       "      <td>871.000000</td>\n",
       "      <td>275.000000</td>\n",
       "      <td>1.000000</td>\n",
       "    </tr>\n",
       "  </tbody>\n",
       "</table>\n",
       "</div>"
      ],
      "text/plain": [
       "                age        balance           day      duration      campaign  \\\n",
       "count  45211.000000   45211.000000  45211.000000  45211.000000  45211.000000   \n",
       "mean      40.936210    1362.272058     15.806419    258.163080      2.763841   \n",
       "std       10.618762    3044.765829      8.322476    257.527812      3.098021   \n",
       "min       18.000000   -8019.000000      1.000000      0.000000      1.000000   \n",
       "25%       33.000000      72.000000      8.000000    103.000000      1.000000   \n",
       "50%       39.000000     448.000000     16.000000    180.000000      2.000000   \n",
       "75%       48.000000    1428.000000     21.000000    319.000000      3.000000   \n",
       "max       95.000000  102127.000000     31.000000   4918.000000     63.000000   \n",
       "\n",
       "              pdays      previous             y  \n",
       "count  45211.000000  45211.000000  45211.000000  \n",
       "mean      40.197828      0.580323      0.116985  \n",
       "std      100.128746      2.303441      0.321406  \n",
       "min       -1.000000      0.000000      0.000000  \n",
       "25%       -1.000000      0.000000      0.000000  \n",
       "50%       -1.000000      0.000000      0.000000  \n",
       "75%       -1.000000      0.000000      0.000000  \n",
       "max      871.000000    275.000000      1.000000  "
      ]
     },
     "execution_count": 38,
     "metadata": {},
     "output_type": "execute_result"
    }
   ],
   "source": [
    "df.describe()"
   ]
  },
  {
   "cell_type": "code",
   "execution_count": 39,
   "metadata": {},
   "outputs": [
    {
     "data": {
      "text/html": [
       "<div>\n",
       "<style scoped>\n",
       "    .dataframe tbody tr th:only-of-type {\n",
       "        vertical-align: middle;\n",
       "    }\n",
       "\n",
       "    .dataframe tbody tr th {\n",
       "        vertical-align: top;\n",
       "    }\n",
       "\n",
       "    .dataframe thead th {\n",
       "        text-align: right;\n",
       "    }\n",
       "</style>\n",
       "<table border=\"1\" class=\"dataframe\">\n",
       "  <thead>\n",
       "    <tr style=\"text-align: right;\">\n",
       "      <th></th>\n",
       "      <th>job</th>\n",
       "      <th>y</th>\n",
       "    </tr>\n",
       "  </thead>\n",
       "  <tbody>\n",
       "    <tr>\n",
       "      <th>8</th>\n",
       "      <td>student</td>\n",
       "      <td>0.286780</td>\n",
       "    </tr>\n",
       "    <tr>\n",
       "      <th>5</th>\n",
       "      <td>retired</td>\n",
       "      <td>0.227915</td>\n",
       "    </tr>\n",
       "    <tr>\n",
       "      <th>10</th>\n",
       "      <td>unemployed</td>\n",
       "      <td>0.155027</td>\n",
       "    </tr>\n",
       "    <tr>\n",
       "      <th>4</th>\n",
       "      <td>management</td>\n",
       "      <td>0.137556</td>\n",
       "    </tr>\n",
       "    <tr>\n",
       "      <th>0</th>\n",
       "      <td>admin</td>\n",
       "      <td>0.122027</td>\n",
       "    </tr>\n",
       "    <tr>\n",
       "      <th>6</th>\n",
       "      <td>self</td>\n",
       "      <td>0.118429</td>\n",
       "    </tr>\n",
       "    <tr>\n",
       "      <th>11</th>\n",
       "      <td>unknown</td>\n",
       "      <td>0.118056</td>\n",
       "    </tr>\n",
       "    <tr>\n",
       "      <th>9</th>\n",
       "      <td>technician</td>\n",
       "      <td>0.110570</td>\n",
       "    </tr>\n",
       "    <tr>\n",
       "      <th>7</th>\n",
       "      <td>services</td>\n",
       "      <td>0.088830</td>\n",
       "    </tr>\n",
       "    <tr>\n",
       "      <th>3</th>\n",
       "      <td>housemaid</td>\n",
       "      <td>0.087903</td>\n",
       "    </tr>\n",
       "    <tr>\n",
       "      <th>2</th>\n",
       "      <td>entrepreneur</td>\n",
       "      <td>0.082717</td>\n",
       "    </tr>\n",
       "    <tr>\n",
       "      <th>1</th>\n",
       "      <td>blue</td>\n",
       "      <td>0.072750</td>\n",
       "    </tr>\n",
       "  </tbody>\n",
       "</table>\n",
       "</div>"
      ],
      "text/plain": [
       "             job         y\n",
       "8        student  0.286780\n",
       "5        retired  0.227915\n",
       "10    unemployed  0.155027\n",
       "4     management  0.137556\n",
       "0          admin  0.122027\n",
       "6           self  0.118429\n",
       "11       unknown  0.118056\n",
       "9     technician  0.110570\n",
       "7       services  0.088830\n",
       "3      housemaid  0.087903\n",
       "2   entrepreneur  0.082717\n",
       "1           blue  0.072750"
      ]
     },
     "execution_count": 39,
     "metadata": {},
     "output_type": "execute_result"
    }
   ],
   "source": [
    "df[['job', 'y']].groupby(\"job\").mean().reset_index().sort_values(\"y\", ascending=False)"
   ]
  },
  {
   "cell_type": "code",
   "execution_count": 40,
   "metadata": {},
   "outputs": [
    {
     "data": {
      "text/plain": [
       "<matplotlib.axes._subplots.AxesSubplot at 0x1fb479b96d8>"
      ]
     },
     "execution_count": 40,
     "metadata": {},
     "output_type": "execute_result"
    },
    {
     "data": {
      "image/png": "[encoded data removed]",
      "text/plain": [
       "<Figure size 432x288 with 1 Axes>"
      ]
     },
     "metadata": {
      "needs_background": "light"
     },
     "output_type": "display_data"
    }
   ],
   "source": [
    "data1 = df[['job', 'y']].groupby(\"job\").mean().reset_index().sort_values(\"y\", ascending=False)\n",
    "sns.barplot(y = \"job\", x = 'y',data = data1)"
   ]
  },
  {
   "cell_type": "code",
   "execution_count": 41,
   "metadata": {},
   "outputs": [
    {
     "data": {
      "text/plain": [
       "<matplotlib.axes._subplots.AxesSubplot at 0x1fb47622f60>"
      ]
     },
     "execution_count": 41,
     "metadata": {},
     "output_type": "execute_result"
    },
    {
     "data": {
      "image/png": "[encoded data removed]",
      "text/plain": [
       "<Figure size 432x288 with 1 Axes>"
      ]
     },
     "metadata": {
      "needs_background": "light"
     },
     "output_type": "display_data"
    }
   ],
   "source": [
    "data2 = df[['marital', 'y']].groupby(\"marital\").mean().reset_index().sort_values(\"y\", ascending=False)\n",
    "sns.barplot(y = \"marital\", x = 'y',data = data2)"
   ]
  },
  {
   "cell_type": "code",
   "execution_count": 42,
   "metadata": {},
   "outputs": [
    {
     "data": {
      "text/plain": [
       "<matplotlib.axes._subplots.AxesSubplot at 0x1fb478e3748>"
      ]
     },
     "execution_count": 42,
     "metadata": {},
     "output_type": "execute_result"
    },
    {
     "data": {
      "image/png": "[encoded data removed]",
      "text/plain": [
       "<Figure size 432x288 with 1 Axes>"
      ]
     },
     "metadata": {
      "needs_background": "light"
     },
     "output_type": "display_data"
    }
   ],
   "source": [
    "data2 = df[['education', 'y']].groupby(\"education\").mean().reset_index().sort_values(\"y\", ascending=False)\n",
    "sns.barplot(y = \"education\", x = 'y',data = data2)"
   ]
  },
  {
   "cell_type": "code",
   "execution_count": 43,
   "metadata": {},
   "outputs": [
    {
     "data": {
      "text/plain": [
       "<matplotlib.axes._subplots.AxesSubplot at 0x1fb47f234e0>"
      ]
     },
     "execution_count": 43,
     "metadata": {},
     "output_type": "execute_result"
    },
    {
     "data": {
      "image/png": "[encoded data removed]",
      "text/plain": [
       "<Figure size 432x288 with 1 Axes>"
      ]
     },
     "metadata": {
      "needs_background": "light"
     },
     "output_type": "display_data"
    }
   ],
   "source": [
    "data2 = df[['default', 'y']].groupby(\"default\").mean().reset_index().sort_values(\"y\", ascending=False)\n",
    "sns.barplot(y = \"default\", x = 'y',data = data2)"
   ]
  },
  {
   "cell_type": "code",
   "execution_count": 44,
   "metadata": {},
   "outputs": [
    {
     "data": {
      "text/plain": [
       "<matplotlib.axes._subplots.AxesSubplot at 0x1fb478d9e80>"
      ]
     },
     "execution_count": 44,
     "metadata": {},
     "output_type": "execute_result"
    },
    {
     "data": {
      "image/png": "[encoded data removed]",
      "text/plain": [
       "<Figure size 432x288 with 1 Axes>"
      ]
     },
     "metadata": {
      "needs_background": "light"
     },
     "output_type": "display_data"
    }
   ],
   "source": [
    "data2 = df[['housing', 'y']].groupby(\"housing\").mean().reset_index().sort_values(\"y\", ascending=False)\n",
    "sns.barplot(y = \"housing\", x = 'y',data = data2)"
   ]
  },
  {
   "cell_type": "code",
   "execution_count": 45,
   "metadata": {},
   "outputs": [
    {
     "data": {
      "text/plain": [
       "<matplotlib.axes._subplots.AxesSubplot at 0x1fb4750f240>"
      ]
     },
     "execution_count": 45,
     "metadata": {},
     "output_type": "execute_result"
    },
    {
     "data": {
      "image/png": "[encoded data removed]",
      "text/plain": [
       "<Figure size 432x288 with 1 Axes>"
      ]
     },
     "metadata": {
      "needs_background": "light"
     },
     "output_type": "display_data"
    }
   ],
   "source": [
    "data2 = df[['loan', 'y']].groupby(\"loan\").mean().reset_index().sort_values(\"y\", ascending=False)\n",
    "sns.barplot(y = \"loan\", x = 'y',data = data2)"
   ]
  },
  {
   "cell_type": "code",
   "execution_count": 46,
   "metadata": {},
   "outputs": [
    {
     "data": {
      "text/plain": [
       "<matplotlib.axes._subplots.AxesSubplot at 0x1fb47bf7e80>"
      ]
     },
     "execution_count": 46,
     "metadata": {},
     "output_type": "execute_result"
    },
    {
     "data": {
      "image/png": "[encoded data removed]",
      "text/plain": [
       "<Figure size 432x288 with 1 Axes>"
      ]
     },
     "metadata": {
      "needs_background": "light"
     },
     "output_type": "display_data"
    }
   ],
   "source": [
    "data2 = df[['contact', 'y']].groupby(\"contact\").mean().reset_index().sort_values(\"y\", ascending=False)\n",
    "sns.barplot(y = \"contact\", x = 'y',data = data2)"
   ]
  },
  {
   "cell_type": "code",
   "execution_count": 47,
   "metadata": {},
   "outputs": [
    {
     "data": {
      "text/plain": [
       "<matplotlib.axes._subplots.AxesSubplot at 0x1fb47c08550>"
      ]
     },
     "execution_count": 47,
     "metadata": {},
     "output_type": "execute_result"
    },
    {
     "data": {
      "image/png": "[encoded data removed]",
      "text/plain": [
       "<Figure size 432x288 with 1 Axes>"
      ]
     },
     "metadata": {
      "needs_background": "light"
     },
     "output_type": "display_data"
    }
   ],
   "source": [
    "data2 = df[['month', 'y']].groupby(\"month\").mean().reset_index().sort_values(\"y\", ascending=False)\n",
    "sns.barplot(y = \"month\", x = 'y',data = data2)"
   ]
  },
  {
   "cell_type": "code",
   "execution_count": 48,
   "metadata": {},
   "outputs": [
    {
     "data": {
      "text/plain": [
       "<matplotlib.axes._subplots.AxesSubplot at 0x1fb475a7b00>"
      ]
     },
     "execution_count": 48,
     "metadata": {},
     "output_type": "execute_result"
    },
    {
     "data": {
      "image/png": "[encoded data removed]",
      "text/plain": [
       "<Figure size 432x288 with 1 Axes>"
      ]
     },
     "metadata": {
      "needs_background": "light"
     },
     "output_type": "display_data"
    }
   ],
   "source": [
    "data2 = df[['poutcome', 'y']].groupby(\"poutcome\").mean().reset_index().sort_values(\"y\", ascending=False)\n",
    "sns.barplot(y = \"poutcome\", x = 'y',data = data2)"
   ]
  },
  {
   "cell_type": "code",
   "execution_count": 49,
   "metadata": {},
   "outputs": [
    {
     "data": {
      "text/plain": [
       "<matplotlib.axes._subplots.AxesSubplot at 0x1fb47402710>"
      ]
     },
     "execution_count": 49,
     "metadata": {},
     "output_type": "execute_result"
    },
    {
     "data": {
      "image/png": "[encoded data removed]",
      "text/plain": [
       "<Figure size 1080x360 with 1 Axes>"
      ]
     },
     "metadata": {
      "needs_background": "light"
     },
     "output_type": "display_data"
    }
   ],
   "source": [
    "fig, axes = plt.subplots(1,1, figsize = (15,5))\n",
    "sns.countplot(x = df['education'], hue = df[\"y\"])"
   ]
  },
  {
   "cell_type": "code",
   "execution_count": 50,
   "metadata": {},
   "outputs": [],
   "source": [
    "from sklearn.preprocessing import LabelEncoder"
   ]
  },
  {
   "cell_type": "code",
   "execution_count": 51,
   "metadata": {},
   "outputs": [],
   "source": [
    "labelencoder = LabelEncoder()"
   ]
  },
  {
   "cell_type": "code",
   "execution_count": 52,
   "metadata": {},
   "outputs": [],
   "source": [
    "from sklearn.preprocessing import LabelEncoder\n",
    "le = LabelEncoder()\n",
    "for col in df.columns:\n",
    "    if(df[col].dtype == 'object'):\n",
    "        df.loc[:,col] = le.fit_transform(df.loc[:,col])"
   ]
  },
  {
   "cell_type": "code",
   "execution_count": 53,
   "metadata": {},
   "outputs": [
    {
     "data": {
      "text/html": [
       "<div>\n",
       "<style scoped>\n",
       "    .dataframe tbody tr th:only-of-type {\n",
       "        vertical-align: middle;\n",
       "    }\n",
       "\n",
       "    .dataframe tbody tr th {\n",
       "        vertical-align: top;\n",
       "    }\n",
       "\n",
       "    .dataframe thead th {\n",
       "        text-align: right;\n",
       "    }\n",
       "</style>\n",
       "<table border=\"1\" class=\"dataframe\">\n",
       "  <thead>\n",
       "    <tr style=\"text-align: right;\">\n",
       "      <th></th>\n",
       "      <th>age</th>\n",
       "      <th>job</th>\n",
       "      <th>marital</th>\n",
       "      <th>education</th>\n",
       "      <th>default</th>\n",
       "      <th>balance</th>\n",
       "      <th>housing</th>\n",
       "      <th>loan</th>\n",
       "      <th>contact</th>\n",
       "      <th>day</th>\n",
       "      <th>month</th>\n",
       "      <th>duration</th>\n",
       "      <th>campaign</th>\n",
       "      <th>pdays</th>\n",
       "      <th>previous</th>\n",
       "      <th>poutcome</th>\n",
       "      <th>y</th>\n",
       "    </tr>\n",
       "  </thead>\n",
       "  <tbody>\n",
       "    <tr>\n",
       "      <th>0</th>\n",
       "      <td>58</td>\n",
       "      <td>4</td>\n",
       "      <td>1</td>\n",
       "      <td>2</td>\n",
       "      <td>0</td>\n",
       "      <td>2143</td>\n",
       "      <td>1</td>\n",
       "      <td>0</td>\n",
       "      <td>2</td>\n",
       "      <td>5</td>\n",
       "      <td>8</td>\n",
       "      <td>261</td>\n",
       "      <td>1</td>\n",
       "      <td>-1</td>\n",
       "      <td>0</td>\n",
       "      <td>3</td>\n",
       "      <td>0</td>\n",
       "    </tr>\n",
       "    <tr>\n",
       "      <th>1</th>\n",
       "      <td>44</td>\n",
       "      <td>9</td>\n",
       "      <td>2</td>\n",
       "      <td>1</td>\n",
       "      <td>0</td>\n",
       "      <td>29</td>\n",
       "      <td>1</td>\n",
       "      <td>0</td>\n",
       "      <td>2</td>\n",
       "      <td>5</td>\n",
       "      <td>8</td>\n",
       "      <td>151</td>\n",
       "      <td>1</td>\n",
       "      <td>-1</td>\n",
       "      <td>0</td>\n",
       "      <td>3</td>\n",
       "      <td>0</td>\n",
       "    </tr>\n",
       "    <tr>\n",
       "      <th>2</th>\n",
       "      <td>33</td>\n",
       "      <td>2</td>\n",
       "      <td>1</td>\n",
       "      <td>1</td>\n",
       "      <td>0</td>\n",
       "      <td>2</td>\n",
       "      <td>1</td>\n",
       "      <td>1</td>\n",
       "      <td>2</td>\n",
       "      <td>5</td>\n",
       "      <td>8</td>\n",
       "      <td>76</td>\n",
       "      <td>1</td>\n",
       "      <td>-1</td>\n",
       "      <td>0</td>\n",
       "      <td>3</td>\n",
       "      <td>0</td>\n",
       "    </tr>\n",
       "    <tr>\n",
       "      <th>3</th>\n",
       "      <td>47</td>\n",
       "      <td>1</td>\n",
       "      <td>1</td>\n",
       "      <td>3</td>\n",
       "      <td>0</td>\n",
       "      <td>1506</td>\n",
       "      <td>1</td>\n",
       "      <td>0</td>\n",
       "      <td>2</td>\n",
       "      <td>5</td>\n",
       "      <td>8</td>\n",
       "      <td>92</td>\n",
       "      <td>1</td>\n",
       "      <td>-1</td>\n",
       "      <td>0</td>\n",
       "      <td>3</td>\n",
       "      <td>0</td>\n",
       "    </tr>\n",
       "    <tr>\n",
       "      <th>4</th>\n",
       "      <td>33</td>\n",
       "      <td>11</td>\n",
       "      <td>2</td>\n",
       "      <td>3</td>\n",
       "      <td>0</td>\n",
       "      <td>1</td>\n",
       "      <td>0</td>\n",
       "      <td>0</td>\n",
       "      <td>2</td>\n",
       "      <td>5</td>\n",
       "      <td>8</td>\n",
       "      <td>198</td>\n",
       "      <td>1</td>\n",
       "      <td>-1</td>\n",
       "      <td>0</td>\n",
       "      <td>3</td>\n",
       "      <td>0</td>\n",
       "    </tr>\n",
       "  </tbody>\n",
       "</table>\n",
       "</div>"
      ],
      "text/plain": [
       "   age  job  marital  education  default  balance  housing  loan  contact  \\\n",
       "0   58    4        1          2        0     2143        1     0        2   \n",
       "1   44    9        2          1        0       29        1     0        2   \n",
       "2   33    2        1          1        0        2        1     1        2   \n",
       "3   47    1        1          3        0     1506        1     0        2   \n",
       "4   33   11        2          3        0        1        0     0        2   \n",
       "\n",
       "   day  month  duration  campaign  pdays  previous  poutcome  y  \n",
       "0    5      8       261         1     -1         0         3  0  \n",
       "1    5      8       151         1     -1         0         3  0  \n",
       "2    5      8        76         1     -1         0         3  0  \n",
       "3    5      8        92         1     -1         0         3  0  \n",
       "4    5      8       198         1     -1         0         3  0  "
      ]
     },
     "execution_count": 53,
     "metadata": {},
     "output_type": "execute_result"
    }
   ],
   "source": [
    "df.head()"
   ]
  },
  {
   "cell_type": "code",
   "execution_count": 54,
   "metadata": {},
   "outputs": [],
   "source": [
    "df_dummies= pd.get_dummies(df, columns=['job', 'marital', 'education', 'default', 'housing', 'loan', 'contact',\n",
    "       'month', 'poutcome'],drop_first=True,)"
   ]
  },
  {
   "cell_type": "code",
   "execution_count": 55,
   "metadata": {},
   "outputs": [
    {
     "data": {
      "text/html": [
       "<div>\n",
       "<style scoped>\n",
       "    .dataframe tbody tr th:only-of-type {\n",
       "        vertical-align: middle;\n",
       "    }\n",
       "\n",
       "    .dataframe tbody tr th {\n",
       "        vertical-align: top;\n",
       "    }\n",
       "\n",
       "    .dataframe thead th {\n",
       "        text-align: right;\n",
       "    }\n",
       "</style>\n",
       "<table border=\"1\" class=\"dataframe\">\n",
       "  <thead>\n",
       "    <tr style=\"text-align: right;\">\n",
       "      <th></th>\n",
       "      <th>age</th>\n",
       "      <th>balance</th>\n",
       "      <th>day</th>\n",
       "      <th>duration</th>\n",
       "      <th>campaign</th>\n",
       "      <th>pdays</th>\n",
       "      <th>previous</th>\n",
       "      <th>y</th>\n",
       "      <th>job_1</th>\n",
       "      <th>job_2</th>\n",
       "      <th>...</th>\n",
       "      <th>month_5</th>\n",
       "      <th>month_6</th>\n",
       "      <th>month_7</th>\n",
       "      <th>month_8</th>\n",
       "      <th>month_9</th>\n",
       "      <th>month_10</th>\n",
       "      <th>month_11</th>\n",
       "      <th>poutcome_1</th>\n",
       "      <th>poutcome_2</th>\n",
       "      <th>poutcome_3</th>\n",
       "    </tr>\n",
       "  </thead>\n",
       "  <tbody>\n",
       "    <tr>\n",
       "      <th>0</th>\n",
       "      <td>58</td>\n",
       "      <td>2143</td>\n",
       "      <td>5</td>\n",
       "      <td>261</td>\n",
       "      <td>1</td>\n",
       "      <td>-1</td>\n",
       "      <td>0</td>\n",
       "      <td>0</td>\n",
       "      <td>0</td>\n",
       "      <td>0</td>\n",
       "      <td>...</td>\n",
       "      <td>0</td>\n",
       "      <td>0</td>\n",
       "      <td>0</td>\n",
       "      <td>1</td>\n",
       "      <td>0</td>\n",
       "      <td>0</td>\n",
       "      <td>0</td>\n",
       "      <td>0</td>\n",
       "      <td>0</td>\n",
       "      <td>1</td>\n",
       "    </tr>\n",
       "    <tr>\n",
       "      <th>1</th>\n",
       "      <td>44</td>\n",
       "      <td>29</td>\n",
       "      <td>5</td>\n",
       "      <td>151</td>\n",
       "      <td>1</td>\n",
       "      <td>-1</td>\n",
       "      <td>0</td>\n",
       "      <td>0</td>\n",
       "      <td>0</td>\n",
       "      <td>0</td>\n",
       "      <td>...</td>\n",
       "      <td>0</td>\n",
       "      <td>0</td>\n",
       "      <td>0</td>\n",
       "      <td>1</td>\n",
       "      <td>0</td>\n",
       "      <td>0</td>\n",
       "      <td>0</td>\n",
       "      <td>0</td>\n",
       "      <td>0</td>\n",
       "      <td>1</td>\n",
       "    </tr>\n",
       "    <tr>\n",
       "      <th>2</th>\n",
       "      <td>33</td>\n",
       "      <td>2</td>\n",
       "      <td>5</td>\n",
       "      <td>76</td>\n",
       "      <td>1</td>\n",
       "      <td>-1</td>\n",
       "      <td>0</td>\n",
       "      <td>0</td>\n",
       "      <td>0</td>\n",
       "      <td>1</td>\n",
       "      <td>...</td>\n",
       "      <td>0</td>\n",
       "      <td>0</td>\n",
       "      <td>0</td>\n",
       "      <td>1</td>\n",
       "      <td>0</td>\n",
       "      <td>0</td>\n",
       "      <td>0</td>\n",
       "      <td>0</td>\n",
       "      <td>0</td>\n",
       "      <td>1</td>\n",
       "    </tr>\n",
       "    <tr>\n",
       "      <th>3</th>\n",
       "      <td>47</td>\n",
       "      <td>1506</td>\n",
       "      <td>5</td>\n",
       "      <td>92</td>\n",
       "      <td>1</td>\n",
       "      <td>-1</td>\n",
       "      <td>0</td>\n",
       "      <td>0</td>\n",
       "      <td>1</td>\n",
       "      <td>0</td>\n",
       "      <td>...</td>\n",
       "      <td>0</td>\n",
       "      <td>0</td>\n",
       "      <td>0</td>\n",
       "      <td>1</td>\n",
       "      <td>0</td>\n",
       "      <td>0</td>\n",
       "      <td>0</td>\n",
       "      <td>0</td>\n",
       "      <td>0</td>\n",
       "      <td>1</td>\n",
       "    </tr>\n",
       "    <tr>\n",
       "      <th>4</th>\n",
       "      <td>33</td>\n",
       "      <td>1</td>\n",
       "      <td>5</td>\n",
       "      <td>198</td>\n",
       "      <td>1</td>\n",
       "      <td>-1</td>\n",
       "      <td>0</td>\n",
       "      <td>0</td>\n",
       "      <td>0</td>\n",
       "      <td>0</td>\n",
       "      <td>...</td>\n",
       "      <td>0</td>\n",
       "      <td>0</td>\n",
       "      <td>0</td>\n",
       "      <td>1</td>\n",
       "      <td>0</td>\n",
       "      <td>0</td>\n",
       "      <td>0</td>\n",
       "      <td>0</td>\n",
       "      <td>0</td>\n",
       "      <td>1</td>\n",
       "    </tr>\n",
       "  </tbody>\n",
       "</table>\n",
       "<p>5 rows × 43 columns</p>\n",
       "</div>"
      ],
      "text/plain": [
       "   age  balance  day  duration  campaign  pdays  previous  y  job_1  job_2  \\\n",
       "0   58     2143    5       261         1     -1         0  0      0      0   \n",
       "1   44       29    5       151         1     -1         0  0      0      0   \n",
       "2   33        2    5        76         1     -1         0  0      0      1   \n",
       "3   47     1506    5        92         1     -1         0  0      1      0   \n",
       "4   33        1    5       198         1     -1         0  0      0      0   \n",
       "\n",
       "   ...  month_5  month_6  month_7  month_8  month_9  month_10  month_11  \\\n",
       "0  ...        0        0        0        1        0         0         0   \n",
       "1  ...        0        0        0        1        0         0         0   \n",
       "2  ...        0        0        0        1        0         0         0   \n",
       "3  ...        0        0        0        1        0         0         0   \n",
       "4  ...        0        0        0        1        0         0         0   \n",
       "\n",
       "   poutcome_1  poutcome_2  poutcome_3  \n",
       "0           0           0           1  \n",
       "1           0           0           1  \n",
       "2           0           0           1  \n",
       "3           0           0           1  \n",
       "4           0           0           1  \n",
       "\n",
       "[5 rows x 43 columns]"
      ]
     },
     "execution_count": 55,
     "metadata": {},
     "output_type": "execute_result"
    }
   ],
   "source": [
    "df_dummies.head()"
   ]
  },
  {
   "cell_type": "code",
   "execution_count": 56,
   "metadata": {},
   "outputs": [
    {
     "data": {
      "text/plain": [
       "Index(['age', 'balance', 'day', 'duration', 'campaign', 'pdays', 'previous',\n",
       "       'y', 'job_1', 'job_2', 'job_3', 'job_4', 'job_5', 'job_6', 'job_7',\n",
       "       'job_8', 'job_9', 'job_10', 'job_11', 'marital_1', 'marital_2',\n",
       "       'education_1', 'education_2', 'education_3', 'default_1', 'housing_1',\n",
       "       'loan_1', 'contact_1', 'contact_2', 'month_1', 'month_2', 'month_3',\n",
       "       'month_4', 'month_5', 'month_6', 'month_7', 'month_8', 'month_9',\n",
       "       'month_10', 'month_11', 'poutcome_1', 'poutcome_2', 'poutcome_3'],\n",
       "      dtype='object')"
      ]
     },
     "execution_count": 56,
     "metadata": {},
     "output_type": "execute_result"
    }
   ],
   "source": [
    "df_dummies.columns\n"
   ]
  },
  {
   "cell_type": "code",
   "execution_count": 57,
   "metadata": {},
   "outputs": [
    {
     "name": "stdout",
     "output_type": "stream",
     "text": [
      "<class 'pandas.core.frame.DataFrame'>\n",
      "RangeIndex: 45211 entries, 0 to 45210\n",
      "Data columns (total 43 columns):\n",
      "age            45211 non-null int64\n",
      "balance        45211 non-null int64\n",
      "day            45211 non-null int64\n",
      "duration       45211 non-null int64\n",
      "campaign       45211 non-null int64\n",
      "pdays          45211 non-null int64\n",
      "previous       45211 non-null int64\n",
      "y              45211 non-null int64\n",
      "job_1          45211 non-null uint8\n",
      "job_2          45211 non-null uint8\n",
      "job_3          45211 non-null uint8\n",
      "job_4          45211 non-null uint8\n",
      "job_5          45211 non-null uint8\n",
      "job_6          45211 non-null uint8\n",
      "job_7          45211 non-null uint8\n",
      "job_8          45211 non-null uint8\n",
      "job_9          45211 non-null uint8\n",
      "job_10         45211 non-null uint8\n",
      "job_11         45211 non-null uint8\n",
      "marital_1      45211 non-null uint8\n",
      "marital_2      45211 non-null uint8\n",
      "education_1    45211 non-null uint8\n",
      "education_2    45211 non-null uint8\n",
      "education_3    45211 non-null uint8\n",
      "default_1      45211 non-null uint8\n",
      "housing_1      45211 non-null uint8\n",
      "loan_1         45211 non-null uint8\n",
      "contact_1      45211 non-null uint8\n",
      "contact_2      45211 non-null uint8\n",
      "month_1        45211 non-null uint8\n",
      "month_2        45211 non-null uint8\n",
      "month_3        45211 non-null uint8\n",
      "month_4        45211 non-null uint8\n",
      "month_5        45211 non-null uint8\n",
      "month_6        45211 non-null uint8\n",
      "month_7        45211 non-null uint8\n",
      "month_8        45211 non-null uint8\n",
      "month_9        45211 non-null uint8\n",
      "month_10       45211 non-null uint8\n",
      "month_11       45211 non-null uint8\n",
      "poutcome_1     45211 non-null uint8\n",
      "poutcome_2     45211 non-null uint8\n",
      "poutcome_3     45211 non-null uint8\n",
      "dtypes: int64(8), uint8(35)\n",
      "memory usage: 4.3 MB\n"
     ]
    }
   ],
   "source": [
    "df_dummies.info()"
   ]
  },
  {
   "cell_type": "code",
   "execution_count": 58,
   "metadata": {},
   "outputs": [],
   "source": [
    "from scipy.stats import ttest_ind"
   ]
  },
  {
   "cell_type": "code",
   "execution_count": 59,
   "metadata": {},
   "outputs": [
    {
     "name": "stdout",
     "output_type": "stream",
     "text": [
      "11.25043445878562 2.5211136918751468e-29\n"
     ]
    }
   ],
   "source": [
    "t_statistic,p_value=ttest_ind(df[df['y']==1]['balance'],df[df['y']==0]['balance'])\n",
    "print(t_statistic,p_value)"
   ]
  },
  {
   "cell_type": "code",
   "execution_count": 60,
   "metadata": {},
   "outputs": [
    {
     "name": "stdout",
     "output_type": "stream",
     "text": [
      "5.350255423036203 8.825643691922395e-08\n"
     ]
    }
   ],
   "source": [
    "t_statistic,p_value=ttest_ind(df[df['y']==1]['age'],df[df['y']==0]['age'])\n",
    "print(t_statistic,p_value)"
   ]
  },
  {
   "cell_type": "code",
   "execution_count": 61,
   "metadata": {},
   "outputs": [
    {
     "name": "stdout",
     "output_type": "stream",
     "text": [
      "-6.029843252838383 1.653880160817521e-09\n"
     ]
    }
   ],
   "source": [
    "t_statistic,p_value=ttest_ind(df[df['y']==1]['day'],df[df['y']==0]['day'])\n",
    "print(t_statistic,p_value)"
   ]
  },
  {
   "cell_type": "code",
   "execution_count": 62,
   "metadata": {},
   "outputs": [
    {
     "name": "stdout",
     "output_type": "stream",
     "text": [
      "91.28943612670862 0.0\n"
     ]
    }
   ],
   "source": [
    "t_statistic,p_value=ttest_ind(df[df['y']==1]['duration'],df[df['y']==0]['duration'])\n",
    "print(t_statistic,p_value)"
   ]
  },
  {
   "cell_type": "code",
   "execution_count": 63,
   "metadata": {},
   "outputs": [
    {
     "name": "stdout",
     "output_type": "stream",
     "text": [
      "-15.599948860003781 1.0123473642096297e-54\n"
     ]
    }
   ],
   "source": [
    "t_statistic,p_value=ttest_ind(df[df['y']==1]['campaign'],df[df['y']==0]['campaign'])\n",
    "print(t_statistic,p_value)"
   ]
  },
  {
   "cell_type": "code",
   "execution_count": 64,
   "metadata": {},
   "outputs": [
    {
     "name": "stdout",
     "output_type": "stream",
     "text": [
      "22.151671780724012 3.790553319478034e-108\n"
     ]
    }
   ],
   "source": [
    "t_statistic,p_value=ttest_ind(df[df['y']==1]['pdays'],df[df['y']==0]['pdays'])\n",
    "print(t_statistic,p_value)"
   ]
  },
  {
   "cell_type": "code",
   "execution_count": 65,
   "metadata": {},
   "outputs": [
    {
     "name": "stdout",
     "output_type": "stream",
     "text": [
      "19.910901271473993 7.801830349805211e-88\n"
     ]
    }
   ],
   "source": [
    "t_statistic,p_value=ttest_ind(df[df['y']==1]['previous'],df[df['y']==0]['previous'])\n",
    "print(t_statistic,p_value)"
   ]
  },
  {
   "cell_type": "code",
   "execution_count": 66,
   "metadata": {},
   "outputs": [
    {
     "name": "stdout",
     "output_type": "stream",
     "text": [
      "                sum_sq       df          F    PR(>F)\n",
      "job       1.393118e+08      1.0  15.031933  0.000106\n",
      "Residual  4.189845e+11  45209.0        NaN       NaN\n"
     ]
    }
   ],
   "source": [
    "import statsmodels.api         as     sm\n",
    "from   statsmodels.formula.api import ols\n",
    " \n",
    "mod = ols('balance ~ job', data = df).fit()\n",
    "aov_table = sm.stats.anova_lm(mod, typ=2)\n",
    "print(aov_table)"
   ]
  },
  {
   "cell_type": "code",
   "execution_count": 67,
   "metadata": {},
   "outputs": [],
   "source": [
    "import pandas as pd\n",
    "import seaborn as sns\n",
    "import matplotlib.pyplot as plt\n",
    "import numpy as np\n",
    "from sklearn.preprocessing import LabelEncoder\n",
    "import statsmodels.api as sm\n",
    "from sklearn.model_selection import train_test_split\n",
    "from sklearn.linear_model import LogisticRegression\n",
    "from statsmodels.stats.outliers_influence import variance_inflation_factor\n",
    "from sklearn import metrics\n",
    "from sklearn.metrics import mean_squared_error,mean_absolute_error\n",
    "import pylab\n",
    "from statsmodels.graphics.gofplots import ProbPlot\n",
    "from sklearn.linear_model import Ridge\n",
    "from sklearn.model_selection import GridSearchCV\n",
    "import warnings\n",
    "warnings.filterwarnings(\"ignore\")"
   ]
  },
  {
   "cell_type": "code",
   "execution_count": 68,
   "metadata": {},
   "outputs": [
    {
     "data": {
      "text/plain": [
       "Index(['age', 'job', 'marital', 'education', 'default', 'balance', 'housing',\n",
       "       'loan', 'contact', 'day', 'month', 'duration', 'campaign', 'pdays',\n",
       "       'previous', 'poutcome', 'y'],\n",
       "      dtype='object')"
      ]
     },
     "execution_count": 68,
     "metadata": {},
     "output_type": "execute_result"
    }
   ],
   "source": [
    "df.columns"
   ]
  },
  {
   "cell_type": "code",
   "execution_count": 69,
   "metadata": {},
   "outputs": [],
   "source": [
    "X = df_dummies.drop('y',axis=1)\n",
    "y = df_dummies[\"y\"]"
   ]
  },
  {
   "cell_type": "code",
   "execution_count": 70,
   "metadata": {},
   "outputs": [
    {
     "name": "stdout",
     "output_type": "stream",
     "text": [
      "(31647, 42) (31647,)\n",
      "(13564, 42) (13564,)\n"
     ]
    }
   ],
   "source": [
    "X_train, X_test, y_train, y_test = train_test_split(X, y, test_size=0.3, random_state = 2) # 0.3 test_size means 20%\n",
    "\n",
    "print(X_train.shape, y_train.shape)\n",
    "print(X_test.shape, y_test.shape)"
   ]
  },
  {
   "cell_type": "code",
   "execution_count": 71,
   "metadata": {},
   "outputs": [
    {
     "name": "stdout",
     "output_type": "stream",
     "text": [
      "R^2 score for train: 0.9012228647265144\n",
      "R^2 score for test: 0.9042317900324388\n"
     ]
    }
   ],
   "source": [
    "lr = LogisticRegression()\n",
    "model = lr.fit(X_train,y_train)\n",
    "print(f'R^2 score for train: {lr.score(X_train, y_train)}')\n",
    "print(f'R^2 score for test: {lr.score(X_test, y_test)}')"
   ]
  },
  {
   "cell_type": "code",
   "execution_count": 72,
   "metadata": {},
   "outputs": [
    {
     "name": "stdout",
     "output_type": "stream",
     "text": [
      "Optimization terminated successfully.\n",
      "         Current function value: 0.238463\n",
      "         Iterations 8\n"
     ]
    },
    {
     "data": {
      "text/html": [
       "<table class=\"simpletable\">\n",
       "<caption>Logit Regression Results</caption>\n",
       "<tr>\n",
       "  <th>Dep. Variable:</th>           <td>y</td>        <th>  No. Observations:  </th>  <td> 45211</td> \n",
       "</tr>\n",
       "<tr>\n",
       "  <th>Model:</th>                 <td>Logit</td>      <th>  Df Residuals:      </th>  <td> 45168</td> \n",
       "</tr>\n",
       "<tr>\n",
       "  <th>Method:</th>                 <td>MLE</td>       <th>  Df Model:          </th>  <td>    42</td> \n",
       "</tr>\n",
       "<tr>\n",
       "  <th>Date:</th>            <td>Sun, 22 Dec 2019</td> <th>  Pseudo R-squ.:     </th>  <td>0.3392</td> \n",
       "</tr>\n",
       "<tr>\n",
       "  <th>Time:</th>                <td>11:01:37</td>     <th>  Log-Likelihood:    </th> <td> -10781.</td>\n",
       "</tr>\n",
       "<tr>\n",
       "  <th>converged:</th>             <td>True</td>       <th>  LL-Null:           </th> <td> -16315.</td>\n",
       "</tr>\n",
       "<tr>\n",
       "  <th>Covariance Type:</th>     <td>nonrobust</td>    <th>  LLR p-value:       </th>  <td> 0.000</td> \n",
       "</tr>\n",
       "</table>\n",
       "<table class=\"simpletable\">\n",
       "<tr>\n",
       "       <td></td>          <th>coef</th>     <th>std err</th>      <th>z</th>      <th>P>|z|</th>  <th>[0.025</th>    <th>0.975]</th>  \n",
       "</tr>\n",
       "<tr>\n",
       "  <th>const</th>       <td>   -2.5356</td> <td>    0.184</td> <td>  -13.803</td> <td> 0.000</td> <td>   -2.896</td> <td>   -2.176</td>\n",
       "</tr>\n",
       "<tr>\n",
       "  <th>age</th>         <td>    0.0001</td> <td>    0.002</td> <td>    0.051</td> <td> 0.959</td> <td>   -0.004</td> <td>    0.004</td>\n",
       "</tr>\n",
       "<tr>\n",
       "  <th>balance</th>     <td> 1.284e-05</td> <td> 5.15e-06</td> <td>    2.493</td> <td> 0.013</td> <td> 2.75e-06</td> <td> 2.29e-05</td>\n",
       "</tr>\n",
       "<tr>\n",
       "  <th>day</th>         <td>    0.0100</td> <td>    0.002</td> <td>    3.993</td> <td> 0.000</td> <td>    0.005</td> <td>    0.015</td>\n",
       "</tr>\n",
       "<tr>\n",
       "  <th>duration</th>    <td>    0.0042</td> <td> 6.45e-05</td> <td>   64.985</td> <td> 0.000</td> <td>    0.004</td> <td>    0.004</td>\n",
       "</tr>\n",
       "<tr>\n",
       "  <th>campaign</th>    <td>   -0.0908</td> <td>    0.010</td> <td>   -8.955</td> <td> 0.000</td> <td>   -0.111</td> <td>   -0.071</td>\n",
       "</tr>\n",
       "<tr>\n",
       "  <th>pdays</th>       <td>   -0.0001</td> <td>    0.000</td> <td>   -0.335</td> <td> 0.737</td> <td>   -0.001</td> <td>    0.000</td>\n",
       "</tr>\n",
       "<tr>\n",
       "  <th>previous</th>    <td>    0.0102</td> <td>    0.007</td> <td>    1.561</td> <td> 0.118</td> <td>   -0.003</td> <td>    0.023</td>\n",
       "</tr>\n",
       "<tr>\n",
       "  <th>job_1</th>       <td>   -0.3099</td> <td>    0.073</td> <td>   -4.264</td> <td> 0.000</td> <td>   -0.452</td> <td>   -0.167</td>\n",
       "</tr>\n",
       "<tr>\n",
       "  <th>job_2</th>       <td>   -0.3571</td> <td>    0.126</td> <td>   -2.844</td> <td> 0.004</td> <td>   -0.603</td> <td>   -0.111</td>\n",
       "</tr>\n",
       "<tr>\n",
       "  <th>job_3</th>       <td>   -0.5040</td> <td>    0.136</td> <td>   -3.693</td> <td> 0.000</td> <td>   -0.771</td> <td>   -0.237</td>\n",
       "</tr>\n",
       "<tr>\n",
       "  <th>job_4</th>       <td>   -0.1653</td> <td>    0.073</td> <td>   -2.255</td> <td> 0.024</td> <td>   -0.309</td> <td>   -0.022</td>\n",
       "</tr>\n",
       "<tr>\n",
       "  <th>job_5</th>       <td>    0.2524</td> <td>    0.097</td> <td>    2.596</td> <td> 0.009</td> <td>    0.062</td> <td>    0.443</td>\n",
       "</tr>\n",
       "<tr>\n",
       "  <th>job_6</th>       <td>   -0.2983</td> <td>    0.112</td> <td>   -2.664</td> <td> 0.008</td> <td>   -0.518</td> <td>   -0.079</td>\n",
       "</tr>\n",
       "<tr>\n",
       "  <th>job_7</th>       <td>   -0.2238</td> <td>    0.084</td> <td>   -2.662</td> <td> 0.008</td> <td>   -0.389</td> <td>   -0.059</td>\n",
       "</tr>\n",
       "<tr>\n",
       "  <th>job_8</th>       <td>    0.3821</td> <td>    0.109</td> <td>    3.505</td> <td> 0.000</td> <td>    0.168</td> <td>    0.596</td>\n",
       "</tr>\n",
       "<tr>\n",
       "  <th>job_9</th>       <td>   -0.1760</td> <td>    0.069</td> <td>   -2.553</td> <td> 0.011</td> <td>   -0.311</td> <td>   -0.041</td>\n",
       "</tr>\n",
       "<tr>\n",
       "  <th>job_10</th>      <td>   -0.1767</td> <td>    0.112</td> <td>   -1.583</td> <td> 0.113</td> <td>   -0.396</td> <td>    0.042</td>\n",
       "</tr>\n",
       "<tr>\n",
       "  <th>job_11</th>      <td>   -0.3133</td> <td>    0.233</td> <td>   -1.342</td> <td> 0.180</td> <td>   -0.771</td> <td>    0.144</td>\n",
       "</tr>\n",
       "<tr>\n",
       "  <th>marital_1</th>   <td>   -0.1795</td> <td>    0.059</td> <td>   -3.046</td> <td> 0.002</td> <td>   -0.295</td> <td>   -0.064</td>\n",
       "</tr>\n",
       "<tr>\n",
       "  <th>marital_2</th>   <td>    0.0925</td> <td>    0.067</td> <td>    1.375</td> <td> 0.169</td> <td>   -0.039</td> <td>    0.224</td>\n",
       "</tr>\n",
       "<tr>\n",
       "  <th>education_1</th> <td>    0.1835</td> <td>    0.065</td> <td>    2.833</td> <td> 0.005</td> <td>    0.057</td> <td>    0.311</td>\n",
       "</tr>\n",
       "<tr>\n",
       "  <th>education_2</th> <td>    0.3789</td> <td>    0.075</td> <td>    5.031</td> <td> 0.000</td> <td>    0.231</td> <td>    0.527</td>\n",
       "</tr>\n",
       "<tr>\n",
       "  <th>education_3</th> <td>    0.2505</td> <td>    0.104</td> <td>    2.411</td> <td> 0.016</td> <td>    0.047</td> <td>    0.454</td>\n",
       "</tr>\n",
       "<tr>\n",
       "  <th>default_1</th>   <td>   -0.0167</td> <td>    0.163</td> <td>   -0.102</td> <td> 0.918</td> <td>   -0.336</td> <td>    0.302</td>\n",
       "</tr>\n",
       "<tr>\n",
       "  <th>housing_1</th>   <td>   -0.6754</td> <td>    0.044</td> <td>  -15.395</td> <td> 0.000</td> <td>   -0.761</td> <td>   -0.589</td>\n",
       "</tr>\n",
       "<tr>\n",
       "  <th>loan_1</th>      <td>   -0.4254</td> <td>    0.060</td> <td>   -7.091</td> <td> 0.000</td> <td>   -0.543</td> <td>   -0.308</td>\n",
       "</tr>\n",
       "<tr>\n",
       "  <th>contact_1</th>   <td>   -0.1634</td> <td>    0.075</td> <td>   -2.173</td> <td> 0.030</td> <td>   -0.311</td> <td>   -0.016</td>\n",
       "</tr>\n",
       "<tr>\n",
       "  <th>contact_2</th>   <td>   -1.6232</td> <td>    0.073</td> <td>  -22.183</td> <td> 0.000</td> <td>   -1.767</td> <td>   -1.480</td>\n",
       "</tr>\n",
       "<tr>\n",
       "  <th>month_1</th>     <td>   -0.6939</td> <td>    0.078</td> <td>   -8.842</td> <td> 0.000</td> <td>   -0.848</td> <td>   -0.540</td>\n",
       "</tr>\n",
       "<tr>\n",
       "  <th>month_2</th>     <td>    0.6911</td> <td>    0.177</td> <td>    3.912</td> <td> 0.000</td> <td>    0.345</td> <td>    1.037</td>\n",
       "</tr>\n",
       "<tr>\n",
       "  <th>month_3</th>     <td>   -0.1473</td> <td>    0.089</td> <td>   -1.648</td> <td> 0.099</td> <td>   -0.323</td> <td>    0.028</td>\n",
       "</tr>\n",
       "<tr>\n",
       "  <th>month_4</th>     <td>   -1.2617</td> <td>    0.122</td> <td>  -10.367</td> <td> 0.000</td> <td>   -1.500</td> <td>   -1.023</td>\n",
       "</tr>\n",
       "<tr>\n",
       "  <th>month_5</th>     <td>   -0.8308</td> <td>    0.077</td> <td>  -10.733</td> <td> 0.000</td> <td>   -0.983</td> <td>   -0.679</td>\n",
       "</tr>\n",
       "<tr>\n",
       "  <th>month_6</th>     <td>    0.4536</td> <td>    0.094</td> <td>    4.843</td> <td> 0.000</td> <td>    0.270</td> <td>    0.637</td>\n",
       "</tr>\n",
       "<tr>\n",
       "  <th>month_7</th>     <td>    1.5899</td> <td>    0.120</td> <td>   13.265</td> <td> 0.000</td> <td>    1.355</td> <td>    1.825</td>\n",
       "</tr>\n",
       "<tr>\n",
       "  <th>month_8</th>     <td>   -0.3991</td> <td>    0.072</td> <td>   -5.521</td> <td> 0.000</td> <td>   -0.541</td> <td>   -0.257</td>\n",
       "</tr>\n",
       "<tr>\n",
       "  <th>month_9</th>     <td>   -0.8734</td> <td>    0.084</td> <td>  -10.347</td> <td> 0.000</td> <td>   -1.039</td> <td>   -0.708</td>\n",
       "</tr>\n",
       "<tr>\n",
       "  <th>month_10</th>    <td>    0.8814</td> <td>    0.108</td> <td>    8.159</td> <td> 0.000</td> <td>    0.670</td> <td>    1.093</td>\n",
       "</tr>\n",
       "<tr>\n",
       "  <th>month_11</th>    <td>    0.8741</td> <td>    0.119</td> <td>    7.314</td> <td> 0.000</td> <td>    0.640</td> <td>    1.108</td>\n",
       "</tr>\n",
       "<tr>\n",
       "  <th>poutcome_1</th>  <td>    0.2035</td> <td>    0.090</td> <td>    2.265</td> <td> 0.024</td> <td>    0.027</td> <td>    0.380</td>\n",
       "</tr>\n",
       "<tr>\n",
       "  <th>poutcome_2</th>  <td>    2.2911</td> <td>    0.082</td> <td>   27.821</td> <td> 0.000</td> <td>    2.130</td> <td>    2.452</td>\n",
       "</tr>\n",
       "<tr>\n",
       "  <th>poutcome_3</th>  <td>   -0.0918</td> <td>    0.093</td> <td>   -0.982</td> <td> 0.326</td> <td>   -0.275</td> <td>    0.091</td>\n",
       "</tr>\n",
       "</table>"
      ],
      "text/plain": [
       "<class 'statsmodels.iolib.summary.Summary'>\n",
       "\"\"\"\n",
       "                           Logit Regression Results                           \n",
       "==============================================================================\n",
       "Dep. Variable:                      y   No. Observations:                45211\n",
       "Model:                          Logit   Df Residuals:                    45168\n",
       "Method:                           MLE   Df Model:                           42\n",
       "Date:                Sun, 22 Dec 2019   Pseudo R-squ.:                  0.3392\n",
       "Time:                        11:01:37   Log-Likelihood:                -10781.\n",
       "converged:                       True   LL-Null:                       -16315.\n",
       "Covariance Type:            nonrobust   LLR p-value:                     0.000\n",
       "===============================================================================\n",
       "                  coef    std err          z      P>|z|      [0.025      0.975]\n",
       "-------------------------------------------------------------------------------\n",
       "const          -2.5356      0.184    -13.803      0.000      -2.896      -2.176\n",
       "age             0.0001      0.002      0.051      0.959      -0.004       0.004\n",
       "balance      1.284e-05   5.15e-06      2.493      0.013    2.75e-06    2.29e-05\n",
       "day             0.0100      0.002      3.993      0.000       0.005       0.015\n",
       "duration        0.0042   6.45e-05     64.985      0.000       0.004       0.004\n",
       "campaign       -0.0908      0.010     -8.955      0.000      -0.111      -0.071\n",
       "pdays          -0.0001      0.000     -0.335      0.737      -0.001       0.000\n",
       "previous        0.0102      0.007      1.561      0.118      -0.003       0.023\n",
       "job_1          -0.3099      0.073     -4.264      0.000      -0.452      -0.167\n",
       "job_2          -0.3571      0.126     -2.844      0.004      -0.603      -0.111\n",
       "job_3          -0.5040      0.136     -3.693      0.000      -0.771      -0.237\n",
       "job_4          -0.1653      0.073     -2.255      0.024      -0.309      -0.022\n",
       "job_5           0.2524      0.097      2.596      0.009       0.062       0.443\n",
       "job_6          -0.2983      0.112     -2.664      0.008      -0.518      -0.079\n",
       "job_7          -0.2238      0.084     -2.662      0.008      -0.389      -0.059\n",
       "job_8           0.3821      0.109      3.505      0.000       0.168       0.596\n",
       "job_9          -0.1760      0.069     -2.553      0.011      -0.311      -0.041\n",
       "job_10         -0.1767      0.112     -1.583      0.113      -0.396       0.042\n",
       "job_11         -0.3133      0.233     -1.342      0.180      -0.771       0.144\n",
       "marital_1      -0.1795      0.059     -3.046      0.002      -0.295      -0.064\n",
       "marital_2       0.0925      0.067      1.375      0.169      -0.039       0.224\n",
       "education_1     0.1835      0.065      2.833      0.005       0.057       0.311\n",
       "education_2     0.3789      0.075      5.031      0.000       0.231       0.527\n",
       "education_3     0.2505      0.104      2.411      0.016       0.047       0.454\n",
       "default_1      -0.0167      0.163     -0.102      0.918      -0.336       0.302\n",
       "housing_1      -0.6754      0.044    -15.395      0.000      -0.761      -0.589\n",
       "loan_1         -0.4254      0.060     -7.091      0.000      -0.543      -0.308\n",
       "contact_1      -0.1634      0.075     -2.173      0.030      -0.311      -0.016\n",
       "contact_2      -1.6232      0.073    -22.183      0.000      -1.767      -1.480\n",
       "month_1        -0.6939      0.078     -8.842      0.000      -0.848      -0.540\n",
       "month_2         0.6911      0.177      3.912      0.000       0.345       1.037\n",
       "month_3        -0.1473      0.089     -1.648      0.099      -0.323       0.028\n",
       "month_4        -1.2617      0.122    -10.367      0.000      -1.500      -1.023\n",
       "month_5        -0.8308      0.077    -10.733      0.000      -0.983      -0.679\n",
       "month_6         0.4536      0.094      4.843      0.000       0.270       0.637\n",
       "month_7         1.5899      0.120     13.265      0.000       1.355       1.825\n",
       "month_8        -0.3991      0.072     -5.521      0.000      -0.541      -0.257\n",
       "month_9        -0.8734      0.084    -10.347      0.000      -1.039      -0.708\n",
       "month_10        0.8814      0.108      8.159      0.000       0.670       1.093\n",
       "month_11        0.8741      0.119      7.314      0.000       0.640       1.108\n",
       "poutcome_1      0.2035      0.090      2.265      0.024       0.027       0.380\n",
       "poutcome_2      2.2911      0.082     27.821      0.000       2.130       2.452\n",
       "poutcome_3     -0.0918      0.093     -0.982      0.326      -0.275       0.091\n",
       "===============================================================================\n",
       "\"\"\""
      ]
     },
     "execution_count": 72,
     "metadata": {},
     "output_type": "execute_result"
    }
   ],
   "source": [
    "import statsmodels.api as sm\n",
    "Xc=sm.add_constant(X)\n",
    "logit_model=sm.Logit(y,Xc)\n",
    "result=logit_model.fit()\n",
    "result.summary()"
   ]
  },
  {
   "cell_type": "code",
   "execution_count": 73,
   "metadata": {},
   "outputs": [],
   "source": [
    "from sklearn.feature_selection import RFE\n",
    "import sklearn.model_selection as model_selection\n",
    "from sklearn.linear_model import LinearRegression\n",
    "from sklearn.tree import DecisionTreeClassifier\n",
    "from sklearn.ensemble import RandomForestClassifier\n",
    "from sklearn.model_selection import KFold, cross_val_score\n",
    "from sklearn.linear_model import LinearRegression as LR\n",
    "from sklearn.model_selection import train_test_split\n",
    "from sklearn.metrics import r2_score"
   ]
  },
  {
   "cell_type": "code",
   "execution_count": 74,
   "metadata": {},
   "outputs": [],
   "source": [
    "no_of_cols=len(X_train.columns)\n",
    "\n",
    "X_train, X_test, y_train, y_test = train_test_split(X, y, test_size=0.3, random_state=45)\n",
    "\n",
    "score_list=[]\n",
    "\n",
    "for n in range(no_of_cols):\n",
    "    model=LR()\n",
    "    rfe=RFE(model,n+1)\n",
    "    X_train_rfe=rfe.fit_transform(X_train,y_train)\n",
    "    model.fit(X_train_rfe,y_train)\n",
    "    \n",
    "    \n",
    "    X_test_rfe=rfe.transform(X_test)\n",
    "    score=model.score(X_test_rfe,y_test)\n",
    "    \n",
    "    score_list.append(score)"
   ]
  },
  {
   "cell_type": "code",
   "execution_count": 75,
   "metadata": {},
   "outputs": [
    {
     "data": {
      "text/plain": [
       "42"
      ]
     },
     "execution_count": 75,
     "metadata": {},
     "output_type": "execute_result"
    }
   ],
   "source": [
    "len(score_list)"
   ]
  },
  {
   "cell_type": "code",
   "execution_count": 76,
   "metadata": {},
   "outputs": [
    {
     "data": {
      "text/plain": [
       "[0.10640361589168068,\n",
       " 0.12132149440360773,\n",
       " 0.12504239814179785,\n",
       " 0.13322267210279437,\n",
       " 0.13646036621378999,\n",
       " 0.13710965659494978,\n",
       " 0.14596559550290966,\n",
       " 0.14913033226247496,\n",
       " 0.1494634143953636,\n",
       " 0.1513040996095344,\n",
       " 0.15311639985413328,\n",
       " 0.15534163725184846,\n",
       " 0.15621709250048532,\n",
       " 0.15638578414915894,\n",
       " 0.15688129783892424,\n",
       " 0.15696637142010705,\n",
       " 0.15672775503916336,\n",
       " 0.15909033635455183,\n",
       " 0.15995464831791506,\n",
       " 0.15977878114370203,\n",
       " 0.15972047356247354,\n",
       " 0.16004882013836996,\n",
       " 0.16087050086525523,\n",
       " 0.16080184645923346,\n",
       " 0.1608275736435647,\n",
       " 0.16086395485772542,\n",
       " 0.16083830327598325,\n",
       " 0.1607162837175211,\n",
       " 0.16079971784282443,\n",
       " 0.16077479908255754,\n",
       " 0.16067900500065835,\n",
       " 0.16066635769463444,\n",
       " 0.1605561776636768,\n",
       " 0.16059112270755527,\n",
       " 0.16075129789210008,\n",
       " 0.16229051340673373,\n",
       " 0.16194484477376903,\n",
       " 0.16211984628561926,\n",
       " 0.3061488969288916,\n",
       " 0.305978292909704,\n",
       " 0.3059768699905293,\n",
       " 0.3061805368195093]"
      ]
     },
     "execution_count": 76,
     "metadata": {},
     "output_type": "execute_result"
    }
   ],
   "source": [
    "score_list"
   ]
  },
  {
   "cell_type": "code",
   "execution_count": 77,
   "metadata": {},
   "outputs": [
    {
     "data": {
      "image/png": "[encoded data removed]",
      "text/plain": [
       "<Figure size 432x288 with 1 Axes>"
      ]
     },
     "metadata": {
      "needs_background": "light"
     },
     "output_type": "display_data"
    }
   ],
   "source": [
    "plt.plot(score_list)\n",
    "plt.show()"
   ]
  },
  {
   "cell_type": "code",
   "execution_count": 78,
   "metadata": {},
   "outputs": [
    {
     "name": "stdout",
     "output_type": "stream",
     "text": [
      "[False False False False False False False False False False False False\n",
      " False False  True False False False False False False False False False\n",
      "  True False False  True  True  True False  True False False  True False\n",
      " False  True  True False  True False]\n",
      "[31 33 29 30 24 32 28 15 12  7 23  8 17 21  1 22 11 20 10 25 18 13 19 16\n",
      "  1  4  9  1  1  1  6  1  2 26  1  5  3  1  1 14  1 27]\n",
      "       col_name  support  ranking\n",
      "0           age    False       31\n",
      "1       balance    False       33\n",
      "2           day    False       29\n",
      "3      duration    False       30\n",
      "4      campaign    False       24\n",
      "5         pdays    False       32\n",
      "6      previous    False       28\n",
      "7         job_1    False       15\n",
      "8         job_2    False       12\n",
      "9         job_3    False        7\n",
      "10        job_4    False       23\n",
      "11        job_5    False        8\n",
      "12        job_6    False       17\n",
      "13        job_7    False       21\n",
      "14        job_8     True        1\n",
      "15        job_9    False       22\n",
      "16       job_10    False       11\n",
      "17       job_11    False       20\n",
      "18    marital_1    False       10\n",
      "19    marital_2    False       25\n",
      "20  education_1    False       18\n",
      "21  education_2    False       13\n",
      "22  education_3    False       19\n",
      "23    default_1    False       16\n",
      "24    housing_1     True        1\n",
      "25       loan_1    False        4\n",
      "26    contact_1    False        9\n",
      "27    contact_2     True        1\n",
      "28      month_1     True        1\n",
      "29      month_2     True        1\n",
      "30      month_3    False        6\n",
      "31      month_4     True        1\n",
      "32      month_5    False        2\n",
      "33      month_6    False       26\n",
      "34      month_7     True        1\n",
      "35      month_8    False        5\n",
      "36      month_9    False        3\n",
      "37     month_10     True        1\n",
      "38     month_11     True        1\n",
      "39   poutcome_1    False       14\n",
      "40   poutcome_2     True        1\n",
      "41   poutcome_3    False       27\n"
     ]
    }
   ],
   "source": [
    "from sklearn.feature_selection import RFE\n",
    "model=LogisticRegression()\n",
    "rfe=RFE(model,10)\n",
    "\n",
    "X_rfe=rfe.fit_transform(X_train,y_train)\n",
    "model.fit(X_rfe,y_train)\n",
    "\n",
    "print(rfe.support_)\n",
    "print(rfe.ranking_)\n",
    "X_r=pd.DataFrame(list(zip(X_train.columns,rfe.support_,rfe.ranking_)))\n",
    "X_r.columns=['col_name','support','ranking']\n",
    "print(X_r)"
   ]
  },
  {
   "cell_type": "code",
   "execution_count": 79,
   "metadata": {},
   "outputs": [],
   "source": [
    "X1 = df.drop('y',axis=1)\n",
    "y1 = df[\"y\"]"
   ]
  },
  {
   "cell_type": "code",
   "execution_count": 80,
   "metadata": {},
   "outputs": [
    {
     "name": "stdout",
     "output_type": "stream",
     "text": [
      "(31647, 16) (31647,)\n",
      "(13564, 16) (13564,)\n"
     ]
    }
   ],
   "source": [
    "X_train, X_test, y_train, y_test = train_test_split(X1, y1, test_size=0.3, random_state = 2) # 0.3 test_size means 20%\n",
    "\n",
    "print(X_train.shape, y_train.shape)\n",
    "print(X_test.shape, y_test.shape)"
   ]
  },
  {
   "cell_type": "code",
   "execution_count": 81,
   "metadata": {},
   "outputs": [
    {
     "name": "stdout",
     "output_type": "stream",
     "text": [
      "R^2 score for train: 0.8901001674724303\n",
      "R^2 score for test: 0.8928782070185786\n"
     ]
    }
   ],
   "source": [
    "lr = LogisticRegression()\n",
    "model = lr.fit(X_train,y_train)\n",
    "print(f'R^2 score for train: {lr.score(X_train, y_train)}')\n",
    "print(f'R^2 score for test: {lr.score(X_test, y_test)}')"
   ]
  },
  {
   "cell_type": "code",
   "execution_count": 82,
   "metadata": {},
   "outputs": [
    {
     "name": "stdout",
     "output_type": "stream",
     "text": [
      "Optimization terminated successfully.\n",
      "         Current function value: 0.267322\n",
      "         Iterations 8\n"
     ]
    },
    {
     "data": {
      "text/html": [
       "<table class=\"simpletable\">\n",
       "<caption>Logit Regression Results</caption>\n",
       "<tr>\n",
       "  <th>Dep. Variable:</th>           <td>y</td>        <th>  No. Observations:  </th>  <td> 45211</td> \n",
       "</tr>\n",
       "<tr>\n",
       "  <th>Model:</th>                 <td>Logit</td>      <th>  Df Residuals:      </th>  <td> 45194</td> \n",
       "</tr>\n",
       "<tr>\n",
       "  <th>Method:</th>                 <td>MLE</td>       <th>  Df Model:          </th>  <td>    16</td> \n",
       "</tr>\n",
       "<tr>\n",
       "  <th>Date:</th>            <td>Sun, 22 Dec 2019</td> <th>  Pseudo R-squ.:     </th>  <td>0.2592</td> \n",
       "</tr>\n",
       "<tr>\n",
       "  <th>Time:</th>                <td>11:02:38</td>     <th>  Log-Likelihood:    </th> <td> -12086.</td>\n",
       "</tr>\n",
       "<tr>\n",
       "  <th>converged:</th>             <td>True</td>       <th>  LL-Null:           </th> <td> -16315.</td>\n",
       "</tr>\n",
       "<tr>\n",
       "  <th>Covariance Type:</th>     <td>nonrobust</td>    <th>  LLR p-value:       </th>  <td> 0.000</td> \n",
       "</tr>\n",
       "</table>\n",
       "<table class=\"simpletable\">\n",
       "<tr>\n",
       "      <td></td>         <th>coef</th>     <th>std err</th>      <th>z</th>      <th>P>|z|</th>  <th>[0.025</th>    <th>0.975]</th>  \n",
       "</tr>\n",
       "<tr>\n",
       "  <th>const</th>     <td>   -4.0771</td> <td>    0.147</td> <td>  -27.728</td> <td> 0.000</td> <td>   -4.365</td> <td>   -3.789</td>\n",
       "</tr>\n",
       "<tr>\n",
       "  <th>age</th>       <td>    0.0084</td> <td>    0.002</td> <td>    4.992</td> <td> 0.000</td> <td>    0.005</td> <td>    0.012</td>\n",
       "</tr>\n",
       "<tr>\n",
       "  <th>job</th>       <td>    0.0092</td> <td>    0.005</td> <td>    1.710</td> <td> 0.087</td> <td>   -0.001</td> <td>    0.020</td>\n",
       "</tr>\n",
       "<tr>\n",
       "  <th>marital</th>   <td>    0.2231</td> <td>    0.031</td> <td>    7.189</td> <td> 0.000</td> <td>    0.162</td> <td>    0.284</td>\n",
       "</tr>\n",
       "<tr>\n",
       "  <th>education</th> <td>    0.1989</td> <td>    0.023</td> <td>    8.633</td> <td> 0.000</td> <td>    0.154</td> <td>    0.244</td>\n",
       "</tr>\n",
       "<tr>\n",
       "  <th>default</th>   <td>   -0.3585</td> <td>    0.160</td> <td>   -2.243</td> <td> 0.025</td> <td>   -0.672</td> <td>   -0.045</td>\n",
       "</tr>\n",
       "<tr>\n",
       "  <th>balance</th>   <td> 1.787e-05</td> <td> 4.52e-06</td> <td>    3.953</td> <td> 0.000</td> <td> 9.01e-06</td> <td> 2.67e-05</td>\n",
       "</tr>\n",
       "<tr>\n",
       "  <th>housing</th>   <td>   -1.0368</td> <td>    0.038</td> <td>  -27.303</td> <td> 0.000</td> <td>   -1.111</td> <td>   -0.962</td>\n",
       "</tr>\n",
       "<tr>\n",
       "  <th>loan</th>      <td>   -0.7041</td> <td>    0.057</td> <td>  -12.333</td> <td> 0.000</td> <td>   -0.816</td> <td>   -0.592</td>\n",
       "</tr>\n",
       "<tr>\n",
       "  <th>contact</th>   <td>   -0.6452</td> <td>    0.027</td> <td>  -23.923</td> <td> 0.000</td> <td>   -0.698</td> <td>   -0.592</td>\n",
       "</tr>\n",
       "<tr>\n",
       "  <th>day</th>       <td>   -0.0051</td> <td>    0.002</td> <td>   -2.470</td> <td> 0.014</td> <td>   -0.009</td> <td>   -0.001</td>\n",
       "</tr>\n",
       "<tr>\n",
       "  <th>month</th>     <td>    0.0392</td> <td>    0.006</td> <td>    7.044</td> <td> 0.000</td> <td>    0.028</td> <td>    0.050</td>\n",
       "</tr>\n",
       "<tr>\n",
       "  <th>duration</th>  <td>    0.0039</td> <td>  6.1e-05</td> <td>   64.712</td> <td> 0.000</td> <td>    0.004</td> <td>    0.004</td>\n",
       "</tr>\n",
       "<tr>\n",
       "  <th>campaign</th>  <td>   -0.1311</td> <td>    0.010</td> <td>  -13.052</td> <td> 0.000</td> <td>   -0.151</td> <td>   -0.111</td>\n",
       "</tr>\n",
       "<tr>\n",
       "  <th>pdays</th>     <td>    0.0036</td> <td>    0.000</td> <td>   14.108</td> <td> 0.000</td> <td>    0.003</td> <td>    0.004</td>\n",
       "</tr>\n",
       "<tr>\n",
       "  <th>previous</th>  <td>    0.0893</td> <td>    0.008</td> <td>   11.140</td> <td> 0.000</td> <td>    0.074</td> <td>    0.105</td>\n",
       "</tr>\n",
       "<tr>\n",
       "  <th>poutcome</th>  <td>    0.2300</td> <td>    0.029</td> <td>    7.877</td> <td> 0.000</td> <td>    0.173</td> <td>    0.287</td>\n",
       "</tr>\n",
       "</table>"
      ],
      "text/plain": [
       "<class 'statsmodels.iolib.summary.Summary'>\n",
       "\"\"\"\n",
       "                           Logit Regression Results                           \n",
       "==============================================================================\n",
       "Dep. Variable:                      y   No. Observations:                45211\n",
       "Model:                          Logit   Df Residuals:                    45194\n",
       "Method:                           MLE   Df Model:                           16\n",
       "Date:                Sun, 22 Dec 2019   Pseudo R-squ.:                  0.2592\n",
       "Time:                        11:02:38   Log-Likelihood:                -12086.\n",
       "converged:                       True   LL-Null:                       -16315.\n",
       "Covariance Type:            nonrobust   LLR p-value:                     0.000\n",
       "==============================================================================\n",
       "                 coef    std err          z      P>|z|      [0.025      0.975]\n",
       "------------------------------------------------------------------------------\n",
       "const         -4.0771      0.147    -27.728      0.000      -4.365      -3.789\n",
       "age            0.0084      0.002      4.992      0.000       0.005       0.012\n",
       "job            0.0092      0.005      1.710      0.087      -0.001       0.020\n",
       "marital        0.2231      0.031      7.189      0.000       0.162       0.284\n",
       "education      0.1989      0.023      8.633      0.000       0.154       0.244\n",
       "default       -0.3585      0.160     -2.243      0.025      -0.672      -0.045\n",
       "balance     1.787e-05   4.52e-06      3.953      0.000    9.01e-06    2.67e-05\n",
       "housing       -1.0368      0.038    -27.303      0.000      -1.111      -0.962\n",
       "loan          -0.7041      0.057    -12.333      0.000      -0.816      -0.592\n",
       "contact       -0.6452      0.027    -23.923      0.000      -0.698      -0.592\n",
       "day           -0.0051      0.002     -2.470      0.014      -0.009      -0.001\n",
       "month          0.0392      0.006      7.044      0.000       0.028       0.050\n",
       "duration       0.0039    6.1e-05     64.712      0.000       0.004       0.004\n",
       "campaign      -0.1311      0.010    -13.052      0.000      -0.151      -0.111\n",
       "pdays          0.0036      0.000     14.108      0.000       0.003       0.004\n",
       "previous       0.0893      0.008     11.140      0.000       0.074       0.105\n",
       "poutcome       0.2300      0.029      7.877      0.000       0.173       0.287\n",
       "==============================================================================\n",
       "\"\"\""
      ]
     },
     "execution_count": 82,
     "metadata": {},
     "output_type": "execute_result"
    }
   ],
   "source": [
    "import statsmodels.api as sm\n",
    "Xc=sm.add_constant(X1)\n",
    "logit_model=sm.Logit(y,Xc)\n",
    "result=logit_model.fit()\n",
    "result.summary()"
   ]
  },
  {
   "cell_type": "code",
   "execution_count": 83,
   "metadata": {},
   "outputs": [],
   "source": [
    "no_of_cols=len(X_train.columns)\n",
    "\n",
    "X_train, X_test, y_train, y_test = train_test_split(X1, y1, test_size=0.3, random_state=45)\n",
    "\n",
    "score_list=[]\n",
    "\n",
    "for n in range(no_of_cols):\n",
    "    model=LR()\n",
    "    rfe=RFE(model,n+1)\n",
    "    X_train_rfe=rfe.fit_transform(X_train,y_train)\n",
    "    model.fit(X_train_rfe,y_train)\n",
    "    \n",
    "    \n",
    "    X_test_rfe=rfe.transform(X_test)\n",
    "    score=model.score(X_test_rfe,y_test)\n",
    "    \n",
    "    score_list.append(score)"
   ]
  },
  {
   "cell_type": "code",
   "execution_count": 84,
   "metadata": {},
   "outputs": [
    {
     "data": {
      "text/plain": [
       "16"
      ]
     },
     "execution_count": 84,
     "metadata": {},
     "output_type": "execute_result"
    }
   ],
   "source": [
    "len(score_list)"
   ]
  },
  {
   "cell_type": "code",
   "execution_count": 85,
   "metadata": {},
   "outputs": [
    {
     "data": {
      "text/plain": [
       "[0.01633331369043267,\n",
       " 0.018739826826502437,\n",
       " 0.03450011602535896,\n",
       " 0.03477452044916107,\n",
       " 0.035787418316633346,\n",
       " 0.031124968337944866,\n",
       " 0.032799198415220054,\n",
       " 0.037710836077953225,\n",
       " 0.04026332258165677,\n",
       " 0.040631335203419994,\n",
       " 0.04078459030155279,\n",
       " 0.041330981572887726,\n",
       " 0.19660212538923938,\n",
       " 0.19650136937547846,\n",
       " 0.2041415055712983,\n",
       " 0.2048090321500555]"
      ]
     },
     "execution_count": 85,
     "metadata": {},
     "output_type": "execute_result"
    }
   ],
   "source": [
    "score_list"
   ]
  },
  {
   "cell_type": "code",
   "execution_count": 86,
   "metadata": {},
   "outputs": [
    {
     "data": {
      "image/png": "[encoded data removed]",
      "text/plain": [
       "<Figure size 432x288 with 1 Axes>"
      ]
     },
     "metadata": {
      "needs_background": "light"
     },
     "output_type": "display_data"
    }
   ],
   "source": [
    "plt.plot(score_list)\n",
    "plt.show()"
   ]
  },
  {
   "cell_type": "code",
   "execution_count": 87,
   "metadata": {},
   "outputs": [
    {
     "name": "stdout",
     "output_type": "stream",
     "text": [
      "[ True False  True  True  True False  True  True  True False  True False\n",
      "  True False  True False] \n",
      "\n",
      "[1 2 1 1 1 7 1 1 1 4 1 5 1 6 1 3] \n",
      "\n",
      "     col_name  support  ranking\n",
      "0         age     True        1\n",
      "1         job    False        2\n",
      "2     marital     True        1\n",
      "3   education     True        1\n",
      "4     default     True        1\n",
      "5     balance    False        7\n",
      "6     housing     True        1\n",
      "7        loan     True        1\n",
      "8     contact     True        1\n",
      "9         day    False        4\n",
      "10      month     True        1\n",
      "11   duration    False        5\n",
      "12   campaign     True        1\n",
      "13      pdays    False        6\n",
      "14   previous     True        1\n",
      "15   poutcome    False        3\n"
     ]
    }
   ],
   "source": [
    "from sklearn.feature_selection import RFE\n",
    "model=LogisticRegression()\n",
    "rfe=RFE(model,10)\n",
    "\n",
    "X_rfe=rfe.fit_transform(X_train,y_train)\n",
    "model.fit(X_rfe,y_train)\n",
    "\n",
    "print((rfe.support_),'\\n')\n",
    "\n",
    "print((rfe.ranking_),'\\n')\n",
    "\n",
    "X_r=pd.DataFrame(list(zip(X_train.columns,rfe.support_,rfe.ranking_)))\n",
    "X_r.columns=['col_name','support','ranking']\n",
    "print(X_r)"
   ]
  },
  {
   "cell_type": "code",
   "execution_count": 88,
   "metadata": {},
   "outputs": [],
   "source": [
    "def VIF(formula,data):\n",
    "    import pip #To install packages\n",
    "    #pip.main([\"install\",\"dmatrices\"])\n",
    "    #pip.main([\"install\",\"statsmodels\"])\n",
    "    from patsy import dmatrices\n",
    "    from statsmodels.stats.outliers_influence import variance_inflation_factor\n",
    "    y , X = dmatrices(formula,data = data,return_type=\"dataframe\")\n",
    "    vif = pd.DataFrame()\n",
    "    vif[\"VIF Factor\"] = [variance_inflation_factor(X.values, i) \\\n",
    "       for i in range(X.shape[1])]\n",
    "    vif[\"features\"] = X.columns\n",
    "    return(vif.round(1))"
   ]
  },
  {
   "cell_type": "code",
   "execution_count": 89,
   "metadata": {},
   "outputs": [
    {
     "data": {
      "text/html": [
       "<div>\n",
       "<style scoped>\n",
       "    .dataframe tbody tr th:only-of-type {\n",
       "        vertical-align: middle;\n",
       "    }\n",
       "\n",
       "    .dataframe tbody tr th {\n",
       "        vertical-align: top;\n",
       "    }\n",
       "\n",
       "    .dataframe thead th {\n",
       "        text-align: right;\n",
       "    }\n",
       "</style>\n",
       "<table border=\"1\" class=\"dataframe\">\n",
       "  <thead>\n",
       "    <tr style=\"text-align: right;\">\n",
       "      <th></th>\n",
       "      <th>VIF Factor</th>\n",
       "      <th>features</th>\n",
       "    </tr>\n",
       "  </thead>\n",
       "  <tbody>\n",
       "    <tr>\n",
       "      <th>0</th>\n",
       "      <td>87.3</td>\n",
       "      <td>Intercept</td>\n",
       "    </tr>\n",
       "    <tr>\n",
       "      <th>1</th>\n",
       "      <td>1.3</td>\n",
       "      <td>age</td>\n",
       "    </tr>\n",
       "    <tr>\n",
       "      <th>2</th>\n",
       "      <td>1.0</td>\n",
       "      <td>job</td>\n",
       "    </tr>\n",
       "    <tr>\n",
       "      <th>3</th>\n",
       "      <td>1.2</td>\n",
       "      <td>marital</td>\n",
       "    </tr>\n",
       "    <tr>\n",
       "      <th>4</th>\n",
       "      <td>1.1</td>\n",
       "      <td>education</td>\n",
       "    </tr>\n",
       "    <tr>\n",
       "      <th>5</th>\n",
       "      <td>1.0</td>\n",
       "      <td>default</td>\n",
       "    </tr>\n",
       "    <tr>\n",
       "      <th>6</th>\n",
       "      <td>1.0</td>\n",
       "      <td>balance</td>\n",
       "    </tr>\n",
       "    <tr>\n",
       "      <th>7</th>\n",
       "      <td>1.2</td>\n",
       "      <td>housing</td>\n",
       "    </tr>\n",
       "    <tr>\n",
       "      <th>8</th>\n",
       "      <td>1.0</td>\n",
       "      <td>loan</td>\n",
       "    </tr>\n",
       "    <tr>\n",
       "      <th>9</th>\n",
       "      <td>1.3</td>\n",
       "      <td>contact</td>\n",
       "    </tr>\n",
       "    <tr>\n",
       "      <th>10</th>\n",
       "      <td>1.0</td>\n",
       "      <td>day</td>\n",
       "    </tr>\n",
       "    <tr>\n",
       "      <th>11</th>\n",
       "      <td>1.3</td>\n",
       "      <td>month</td>\n",
       "    </tr>\n",
       "    <tr>\n",
       "      <th>12</th>\n",
       "      <td>1.0</td>\n",
       "      <td>duration</td>\n",
       "    </tr>\n",
       "    <tr>\n",
       "      <th>13</th>\n",
       "      <td>1.1</td>\n",
       "      <td>campaign</td>\n",
       "    </tr>\n",
       "    <tr>\n",
       "      <th>14</th>\n",
       "      <td>3.9</td>\n",
       "      <td>pdays</td>\n",
       "    </tr>\n",
       "    <tr>\n",
       "      <th>15</th>\n",
       "      <td>1.3</td>\n",
       "      <td>previous</td>\n",
       "    </tr>\n",
       "    <tr>\n",
       "      <th>16</th>\n",
       "      <td>4.1</td>\n",
       "      <td>poutcome</td>\n",
       "    </tr>\n",
       "  </tbody>\n",
       "</table>\n",
       "</div>"
      ],
      "text/plain": [
       "    VIF Factor   features\n",
       "0         87.3  Intercept\n",
       "1          1.3        age\n",
       "2          1.0        job\n",
       "3          1.2    marital\n",
       "4          1.1  education\n",
       "5          1.0    default\n",
       "6          1.0    balance\n",
       "7          1.2    housing\n",
       "8          1.0       loan\n",
       "9          1.3    contact\n",
       "10         1.0        day\n",
       "11         1.3      month\n",
       "12         1.0   duration\n",
       "13         1.1   campaign\n",
       "14         3.9      pdays\n",
       "15         1.3   previous\n",
       "16         4.1   poutcome"
      ]
     },
     "execution_count": 89,
     "metadata": {},
     "output_type": "execute_result"
    }
   ],
   "source": [
    "VIF(\"y~ age + job + marital + education + default + balance + housing + loan + contact + day + month + duration + campaign + pdays + previous + poutcome\",data = df)"
   ]
  },
  {
   "cell_type": "code",
   "execution_count": null,
   "metadata": {},
   "outputs": [],
   "source": []
  },
  {
   "cell_type": "code",
   "execution_count": null,
   "metadata": {},
   "outputs": [],
   "source": []
  },
  {
   "cell_type": "code",
   "execution_count": null,
   "metadata": {},
   "outputs": [],
   "source": []
  },
  {
   "cell_type": "code",
   "execution_count": null,
   "metadata": {},
   "outputs": [],
   "source": []
  },
  {
   "cell_type": "code",
   "execution_count": null,
   "metadata": {},
   "outputs": [],
   "source": []
  },
  {
   "cell_type": "code",
   "execution_count": null,
   "metadata": {},
   "outputs": [],
   "source": []
  }
 ],
 "metadata": {
  "kernelspec": {
   "display_name": "Python 3",
   "language": "python",
   "name": "python3"
  },
  "language_info": {
   "codemirror_mode": {
    "name": "ipython",
    "version": 3
   },
   "file_extension": ".py",
   "mimetype": "text/x-python",
   "name": "python",
   "nbconvert_exporter": "python",
   "pygments_lexer": "ipython3",
   "version": "3.7.3"
  }
 },
 "nbformat": 4,
 "nbformat_minor": 2
}
